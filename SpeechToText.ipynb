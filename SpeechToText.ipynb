{
  "cells": [
    {
      "cell_type": "code",
      "execution_count": 1,
      "metadata": {
        "colab": {
          "base_uri": "https://localhost:8080/"
        },
        "id": "gpl2J2agORXh",
        "outputId": "1c7764fc-2fe2-4615-8d57-50c5427d70d8"
      },
      "outputs": [
        {
          "name": "stdout",
          "output_type": "stream",
          "text": [
            "Collecting SpeechRecognition\n",
            "  Downloading SpeechRecognition-3.9.0-py2.py3-none-any.whl (32.8 MB)\n",
            "\u001b[2K     \u001b[90m━━━━━━━━━━━━━━━━━━━━━━━━━━━━━━━━━━━━━━━━\u001b[0m \u001b[32m32.8/32.8 MB\u001b[0m \u001b[31m9.9 MB/s\u001b[0m eta \u001b[36m0:00:00\u001b[0m:00:01\u001b[0m00:01\u001b[0m\n",
            "\u001b[?25hCollecting requests>=2.26.0\n",
            "  Downloading requests-2.28.2-py3-none-any.whl (62 kB)\n",
            "\u001b[2K     \u001b[90m━━━━━━━━━━━━━━━━━━━━━━━━━━━━━━━━━━━━━━━━\u001b[0m \u001b[32m62.8/62.8 kB\u001b[0m \u001b[31m5.4 MB/s\u001b[0m eta \u001b[36m0:00:00\u001b[0m\n",
            "\u001b[?25hCollecting urllib3<1.27,>=1.21.1\n",
            "  Downloading urllib3-1.26.14-py2.py3-none-any.whl (140 kB)\n",
            "\u001b[2K     \u001b[90m━━━━━━━━━━━━━━━━━━━━━━━━━━━━━━━━━━━━━━━\u001b[0m \u001b[32m140.6/140.6 kB\u001b[0m \u001b[31m7.7 MB/s\u001b[0m eta \u001b[36m0:00:00\u001b[0m\n",
            "\u001b[?25hRequirement already satisfied: idna<4,>=2.5 in /Users/jameschin/Library/Python/3.10/lib/python/site-packages (from requests>=2.26.0->SpeechRecognition) (3.4)\n",
            "Collecting charset-normalizer<4,>=2\n",
            "  Downloading charset_normalizer-3.0.1-cp310-cp310-macosx_11_0_arm64.whl (122 kB)\n",
            "\u001b[2K     \u001b[90m━━━━━━━━━━━━━━━━━━━━━━━━━━━━━━━━━━━━━━━\u001b[0m \u001b[32m122.5/122.5 kB\u001b[0m \u001b[31m8.6 MB/s\u001b[0m eta \u001b[36m0:00:00\u001b[0m\n",
            "\u001b[?25hCollecting certifi>=2017.4.17\n",
            "  Downloading certifi-2022.12.7-py3-none-any.whl (155 kB)\n",
            "\u001b[2K     \u001b[90m━━━━━━━━━━━━━━━━━━━━━━━━━━━━━━━━━━━━━━━\u001b[0m \u001b[32m155.3/155.3 kB\u001b[0m \u001b[31m7.8 MB/s\u001b[0m eta \u001b[36m0:00:00\u001b[0m\n",
            "\u001b[?25hInstalling collected packages: charset-normalizer, urllib3, certifi, requests, SpeechRecognition\n",
            "Successfully installed SpeechRecognition-3.9.0 certifi-2022.12.7 charset-normalizer-3.0.1 requests-2.28.2 urllib3-1.26.14\n",
            "\n",
            "\u001b[1m[\u001b[0m\u001b[34;49mnotice\u001b[0m\u001b[1;39;49m]\u001b[0m\u001b[39;49m A new release of pip available: \u001b[0m\u001b[31;49m22.2.2\u001b[0m\u001b[39;49m -> \u001b[0m\u001b[32;49m22.3.1\u001b[0m\n",
            "\u001b[1m[\u001b[0m\u001b[34;49mnotice\u001b[0m\u001b[1;39;49m]\u001b[0m\u001b[39;49m To update, run: \u001b[0m\u001b[32;49mpython3.10 -m pip install --upgrade pip\u001b[0m\n",
            "Note: you may need to restart the kernel to use updated packages.\n"
          ]
        }
      ],
      "source": [
        "pip install SpeechRecognition"
      ]
    },
    {
      "cell_type": "code",
      "execution_count": 3,
      "metadata": {
        "colab": {
          "base_uri": "https://localhost:8080/"
        },
        "id": "YtvTxT4AO_db",
        "outputId": "9fa34dfc-fd42-411b-8e2c-d3ffe1d4c472"
      },
      "outputs": [
        {
          "name": "stdout",
          "output_type": "stream",
          "text": [
            "Requirement already satisfied: pipwin in /opt/homebrew/lib/python3.10/site-packages (0.5.2)\n",
            "Requirement already satisfied: pySmartDL>=1.3.1 in /opt/homebrew/lib/python3.10/site-packages (from pipwin) (1.3.4)\n",
            "Requirement already satisfied: beautifulsoup4>=4.9.0 in /Users/jameschin/Library/Python/3.10/lib/python/site-packages (from pipwin) (4.11.1)\n",
            "Requirement already satisfied: js2py in /opt/homebrew/lib/python3.10/site-packages (from pipwin) (0.74)\n",
            "Requirement already satisfied: six in /opt/homebrew/lib/python3.10/site-packages (from pipwin) (1.16.0)\n",
            "Requirement already satisfied: pyprind in /opt/homebrew/lib/python3.10/site-packages (from pipwin) (2.11.3)\n",
            "Requirement already satisfied: requests in /opt/homebrew/lib/python3.10/site-packages (from pipwin) (2.28.2)\n",
            "Requirement already satisfied: packaging in /Users/jameschin/Library/Python/3.10/lib/python/site-packages (from pipwin) (23.0)\n",
            "Requirement already satisfied: docopt in /opt/homebrew/lib/python3.10/site-packages (from pipwin) (0.6.2)\n",
            "Requirement already satisfied: soupsieve>1.2 in /Users/jameschin/Library/Python/3.10/lib/python/site-packages (from beautifulsoup4>=4.9.0->pipwin) (2.3.2.post1)\n",
            "Requirement already satisfied: pyjsparser>=2.5.1 in /opt/homebrew/lib/python3.10/site-packages (from js2py->pipwin) (2.7.1)\n",
            "Requirement already satisfied: tzlocal>=1.2 in /opt/homebrew/lib/python3.10/site-packages (from js2py->pipwin) (4.2)\n",
            "Requirement already satisfied: certifi>=2017.4.17 in /opt/homebrew/lib/python3.10/site-packages (from requests->pipwin) (2022.12.7)\n",
            "Requirement already satisfied: charset-normalizer<4,>=2 in /opt/homebrew/lib/python3.10/site-packages (from requests->pipwin) (3.0.1)\n",
            "Requirement already satisfied: idna<4,>=2.5 in /Users/jameschin/Library/Python/3.10/lib/python/site-packages (from requests->pipwin) (3.4)\n",
            "Requirement already satisfied: urllib3<1.27,>=1.21.1 in /opt/homebrew/lib/python3.10/site-packages (from requests->pipwin) (1.26.14)\n",
            "Requirement already satisfied: pytz-deprecation-shim in /opt/homebrew/lib/python3.10/site-packages (from tzlocal>=1.2->js2py->pipwin) (0.1.0.post0)\n",
            "Requirement already satisfied: tzdata in /opt/homebrew/lib/python3.10/site-packages (from pytz-deprecation-shim->tzlocal>=1.2->js2py->pipwin) (2022.7)\n",
            "\n",
            "\u001b[1m[\u001b[0m\u001b[34;49mnotice\u001b[0m\u001b[1;39;49m]\u001b[0m\u001b[39;49m A new release of pip available: \u001b[0m\u001b[31;49m22.2.2\u001b[0m\u001b[39;49m -> \u001b[0m\u001b[32;49m22.3.1\u001b[0m\n",
            "\u001b[1m[\u001b[0m\u001b[34;49mnotice\u001b[0m\u001b[1;39;49m]\u001b[0m\u001b[39;49m To update, run: \u001b[0m\u001b[32;49mpython3.10 -m pip install --upgrade pip\u001b[0m\n",
            "Note: you may need to restart the kernel to use updated packages.\n"
          ]
        }
      ],
      "source": [
        "pip install pipwin"
      ]
    },
    {
      "cell_type": "code",
      "execution_count": 4,
      "metadata": {
        "colab": {
          "base_uri": "https://localhost:8080/"
        },
        "id": "q23H0y0jPE83",
        "outputId": "18f58091-4924-4d5c-c20f-57d5b6e1be85"
      },
      "outputs": [
        {
          "name": "stdout",
          "output_type": "stream",
          "text": [
            "The operation couldn’t be completed. Unable to locate a Java Runtime that supports apt.\n",
            "Please visit http://www.java.com for information on installing Java.\n",
            "\n"
          ]
        }
      ],
      "source": [
        "!apt install libasound2-dev portaudio19-dev libportaudio2 libportaudiocpp0 ffmpeg"
      ]
    },
    {
      "cell_type": "code",
      "execution_count": 5,
      "metadata": {
        "colab": {
          "base_uri": "https://localhost:8080/"
        },
        "id": "prZry9dpQEYn",
        "outputId": "e58e2424-3f25-4f05-f88e-bc24a3348dc7"
      },
      "outputs": [
        {
          "name": "stdout",
          "output_type": "stream",
          "text": [
            "zsh:1: command not found: pip\n"
          ]
        }
      ],
      "source": [
        "!pip install pyaudio"
      ]
    },
    {
      "cell_type": "code",
      "execution_count": 6,
      "metadata": {
        "colab": {
          "base_uri": "https://localhost:8080/"
        },
        "id": "HhLt9EqOPCyI",
        "outputId": "b527a43c-b92f-4cd1-9fb2-d7910f6557f1"
      },
      "outputs": [
        {
          "name": "stdout",
          "output_type": "stream",
          "text": [
            "Collecting pyttsx3\n",
            "  Downloading pyttsx3-2.90-py3-none-any.whl (39 kB)\n",
            "Collecting pyobjc>=2.4\n",
            "  Downloading pyobjc-9.0.1-py3-none-any.whl (4.0 kB)\n",
            "Collecting pyobjc-framework-MailKit==9.0.1\n",
            "  Downloading pyobjc_framework_MailKit-9.0.1-py2.py3-none-any.whl (4.0 kB)\n",
            "Collecting pyobjc-framework-ScriptingBridge==9.0.1\n",
            "  Downloading pyobjc_framework_ScriptingBridge-9.0.1-cp36-abi3-macosx_11_0_universal2.whl (8.9 kB)\n",
            "Collecting pyobjc-framework-CoreServices==9.0.1\n",
            "  Downloading pyobjc_framework_CoreServices-9.0.1-cp36-abi3-macosx_11_0_universal2.whl (29 kB)\n",
            "Collecting pyobjc-framework-ColorSync==9.0.1\n",
            "  Downloading pyobjc_framework_ColorSync-9.0.1-py2.py3-none-any.whl (5.5 kB)\n",
            "Collecting pyobjc-framework-SearchKit==9.0.1\n",
            "  Downloading pyobjc_framework_SearchKit-9.0.1-py2.py3-none-any.whl (3.3 kB)\n",
            "Collecting pyobjc-framework-CoreMedia==9.0.1\n",
            "  Downloading pyobjc_framework_CoreMedia-9.0.1-cp310-cp310-macosx_10_9_universal2.whl (23 kB)\n",
            "Collecting pyobjc-framework-AdServices==9.0.1\n",
            "  Downloading pyobjc_framework_AdServices-9.0.1-py2.py3-none-any.whl (3.0 kB)\n",
            "Collecting pyobjc-framework-DeviceCheck==9.0.1\n",
            "  Downloading pyobjc_framework_DeviceCheck-9.0.1-py2.py3-none-any.whl (3.2 kB)\n",
            "Collecting pyobjc-framework-MediaLibrary==9.0.1\n",
            "  Downloading pyobjc_framework_MediaLibrary-9.0.1-py2.py3-none-any.whl (3.8 kB)\n",
            "Collecting pyobjc-framework-PhotosUI==9.0.1\n",
            "  Downloading pyobjc_framework_PhotosUI-9.0.1-cp36-abi3-macosx_11_0_universal2.whl (12 kB)\n",
            "Collecting pyobjc-framework-QuickLookThumbnailing==9.0.1\n",
            "  Downloading pyobjc_framework_QuickLookThumbnailing-9.0.1-py2.py3-none-any.whl (3.6 kB)\n",
            "Collecting pyobjc-framework-MLCompute==9.0.1\n",
            "  Downloading pyobjc_framework_MLCompute-9.0.1-py2.py3-none-any.whl (6.1 kB)\n",
            "Collecting pyobjc-framework-VideoSubscriberAccount==9.0.1\n",
            "  Downloading pyobjc_framework_VideoSubscriberAccount-9.0.1-py2.py3-none-any.whl (4.0 kB)\n",
            "Collecting pyobjc-framework-KernelManagement==9.0.1\n",
            "  Downloading pyobjc_framework_KernelManagement-9.0.1-py2.py3-none-any.whl (3.2 kB)\n",
            "Collecting pyobjc-framework-ImageCaptureCore==9.0.1\n",
            "  Downloading pyobjc_framework_ImageCaptureCore-9.0.1-cp36-abi3-macosx_11_0_universal2.whl (17 kB)\n",
            "Collecting pyobjc-framework-LatentSemanticMapping==9.0.1\n",
            "  Downloading pyobjc_framework_LatentSemanticMapping-9.0.1-py2.py3-none-any.whl (5.0 kB)\n",
            "Collecting pyobjc-framework-FileProvider==9.0.1\n",
            "  Downloading pyobjc_framework_FileProvider-9.0.1-cp310-cp310-macosx_10_9_universal2.whl (17 kB)\n",
            "Collecting pyobjc-framework-BusinessChat==9.0.1\n",
            "  Downloading pyobjc_framework_BusinessChat-9.0.1-py2.py3-none-any.whl (3.0 kB)\n",
            "Collecting pyobjc-framework-ScreenCaptureKit==9.0.1\n",
            "  Downloading pyobjc_framework_ScreenCaptureKit-9.0.1-cp310-cp310-macosx_10_9_universal2.whl (9.9 kB)\n",
            "Collecting pyobjc-framework-SafariServices==9.0.1\n",
            "  Downloading pyobjc_framework_SafariServices-9.0.1-cp36-abi3-macosx_11_0_universal2.whl (7.6 kB)\n",
            "Collecting pyobjc-framework-DiskArbitration==9.0.1\n",
            "  Downloading pyobjc_framework_DiskArbitration-9.0.1-py2.py3-none-any.whl (4.4 kB)\n",
            "Collecting pyobjc-framework-NetFS==9.0.1\n",
            "  Downloading pyobjc_framework_NetFS-9.0.1-py2.py3-none-any.whl (3.8 kB)\n",
            "Collecting pyobjc-core==9.0.1\n",
            "  Downloading pyobjc_core-9.0.1-cp310-cp310-macosx_10_9_universal2.whl (738 kB)\n",
            "\u001b[2K     \u001b[90m━━━━━━━━━━━━━━━━━━━━━━━━━━━━━━━━━━━━━━━\u001b[0m \u001b[32m738.6/738.6 kB\u001b[0m \u001b[31m5.4 MB/s\u001b[0m eta \u001b[36m0:00:00\u001b[0ma \u001b[36m0:00:01\u001b[0m\n",
            "\u001b[?25hCollecting pyobjc-framework-DVDPlayback==9.0.1\n",
            "  Downloading pyobjc_framework_DVDPlayback-9.0.1-py2.py3-none-any.whl (7.8 kB)\n",
            "Collecting pyobjc-framework-CoreSpotlight==9.0.1\n",
            "  Downloading pyobjc_framework_CoreSpotlight-9.0.1-cp36-abi3-macosx_11_0_universal2.whl (10 kB)\n",
            "Collecting pyobjc-framework-InputMethodKit==9.0.1\n",
            "  Downloading pyobjc_framework_InputMethodKit-9.0.1-cp36-abi3-macosx_11_0_universal2.whl (10 kB)\n",
            "Collecting pyobjc-framework-AVRouting==9.0.1\n",
            "  Downloading pyobjc_framework_AVRouting-9.0.1-cp36-abi3-macosx_11_0_universal2.whl (8.9 kB)\n",
            "Collecting pyobjc-framework-CoreHaptics==9.0.1\n",
            "  Downloading pyobjc_framework_CoreHaptics-9.0.1-py2.py3-none-any.whl (4.7 kB)\n",
            "Collecting pyobjc-framework-Quartz==9.0.1\n",
            "  Downloading pyobjc_framework_Quartz-9.0.1-cp310-cp310-macosx_10_9_universal2.whl (227 kB)\n",
            "\u001b[2K     \u001b[90m━━━━━━━━━━━━━━━━━━━━━━━━━━━━━━━━━━━━━━━\u001b[0m \u001b[32m228.0/228.0 kB\u001b[0m \u001b[31m6.6 MB/s\u001b[0m eta \u001b[36m0:00:00\u001b[0m\n",
            "\u001b[?25hCollecting pyobjc-framework-CFNetwork==9.0.1\n",
            "  Downloading pyobjc_framework_CFNetwork-9.0.1-cp36-abi3-macosx_11_0_universal2.whl (16 kB)\n",
            "Collecting pyobjc-framework-MediaPlayer==9.0.1\n",
            "  Downloading pyobjc_framework_MediaPlayer-9.0.1-py2.py3-none-any.whl (6.1 kB)\n",
            "Collecting pyobjc-framework-GameKit==9.0.1\n",
            "  Downloading pyobjc_framework_GameKit-9.0.1-cp36-abi3-macosx_11_0_universal2.whl (22 kB)\n",
            "Collecting pyobjc-framework-MetalFX==9.0.1\n",
            "  Downloading pyobjc_framework_MetalFX-9.0.1-cp36-abi3-macosx_11_0_universal2.whl (10 kB)\n",
            "Collecting pyobjc-framework-CalendarStore==9.0.1\n",
            "  Downloading pyobjc_framework_CalendarStore-9.0.1-py2.py3-none-any.whl (4.6 kB)\n",
            "Collecting pyobjc-framework-ExceptionHandling==9.0.1\n",
            "  Downloading pyobjc_framework_ExceptionHandling-9.0.1-py2.py3-none-any.whl (6.6 kB)\n",
            "Collecting pyobjc-framework-CryptoTokenKit==9.0.1\n",
            "  Downloading pyobjc_framework_CryptoTokenKit-9.0.1-cp36-abi3-macosx_11_0_universal2.whl (13 kB)\n",
            "Collecting pyobjc-framework-CoreMotion==9.0.1\n",
            "  Downloading pyobjc_framework_CoreMotion-9.0.1-cp310-cp310-macosx_10_9_universal2.whl (9.8 kB)\n",
            "Collecting pyobjc-framework-Virtualization==9.0.1\n",
            "  Downloading pyobjc_framework_Virtualization-9.0.1-cp36-abi3-macosx_11_0_universal2.whl (10 kB)\n",
            "Collecting pyobjc-framework-ScreenSaver==9.0.1\n",
            "  Downloading pyobjc_framework_ScreenSaver-9.0.1-cp36-abi3-macosx_11_0_universal2.whl (8.3 kB)\n",
            "Collecting pyobjc-framework-AutomaticAssessmentConfiguration==9.0.1\n",
            "  Downloading pyobjc_framework_AutomaticAssessmentConfiguration-9.0.1-cp36-abi3-macosx_11_0_universal2.whl (9.1 kB)\n",
            "Collecting pyobjc-framework-AppTrackingTransparency==9.0.1\n",
            "  Downloading pyobjc_framework_AppTrackingTransparency-9.0.1-py2.py3-none-any.whl (3.3 kB)\n",
            "Collecting pyobjc-framework-FileProviderUI==9.0.1\n",
            "  Downloading pyobjc_framework_FileProviderUI-9.0.1-py2.py3-none-any.whl (3.1 kB)\n",
            "Collecting pyobjc-framework-FSEvents==9.0.1\n",
            "  Downloading pyobjc_framework_FSEvents-9.0.1-cp36-abi3-macosx_11_0_universal2.whl (13 kB)\n",
            "Collecting pyobjc-framework-AdSupport==9.0.1\n",
            "  Downloading pyobjc_framework_AdSupport-9.0.1-py2.py3-none-any.whl (2.9 kB)\n",
            "Collecting pyobjc-framework-ShazamKit==9.0.1\n",
            "  Downloading pyobjc_framework_ShazamKit-9.0.1-cp310-cp310-macosx_10_9_universal2.whl (9.1 kB)\n",
            "Collecting pyobjc-framework-MediaAccessibility==9.0.1\n",
            "  Downloading pyobjc_framework_MediaAccessibility-9.0.1-py2.py3-none-any.whl (3.9 kB)\n",
            "Collecting pyobjc-framework-IOSurface==9.0.1\n",
            "  Downloading pyobjc_framework_IOSurface-9.0.1-py2.py3-none-any.whl (4.4 kB)\n",
            "Collecting pyobjc-framework-FinderSync==9.0.1\n",
            "  Downloading pyobjc_framework_FinderSync-9.0.1-py2.py3-none-any.whl (4.4 kB)\n",
            "Collecting pyobjc-framework-VideoToolbox==9.0.1\n",
            "  Downloading pyobjc_framework_VideoToolbox-9.0.1-cp36-abi3-macosx_11_0_universal2.whl (12 kB)\n",
            "Collecting pyobjc-framework-NetworkExtension==9.0.1\n",
            "  Downloading pyobjc_framework_NetworkExtension-9.0.1-cp36-abi3-macosx_11_0_universal2.whl (13 kB)\n",
            "Collecting pyobjc-framework-MetalPerformanceShadersGraph==9.0.1\n",
            "  Downloading pyobjc_framework_MetalPerformanceShadersGraph-9.0.1-py2.py3-none-any.whl (5.4 kB)\n",
            "Collecting pyobjc-framework-ApplicationServices==9.0.1\n",
            "  Downloading pyobjc_framework_ApplicationServices-9.0.1-cp310-cp310-macosx_10_9_universal2.whl (32 kB)\n",
            "Collecting pyobjc-framework-CoreMediaIO==9.0.1\n",
            "  Downloading pyobjc_framework_CoreMediaIO-9.0.1-cp36-abi3-macosx_11_0_universal2.whl (17 kB)\n",
            "Collecting pyobjc-framework-CoreData==9.0.1\n",
            "  Downloading pyobjc_framework_CoreData-9.0.1-cp36-abi3-macosx_11_0_universal2.whl (16 kB)\n",
            "Collecting pyobjc-framework-SyncServices==9.0.1\n",
            "  Downloading pyobjc_framework_SyncServices-9.0.1-cp36-abi3-macosx_11_0_universal2.whl (14 kB)\n",
            "Collecting pyobjc-framework-CoreAudio==9.0.1\n",
            "  Downloading pyobjc_framework_CoreAudio-9.0.1-cp310-cp310-macosx_10_9_universal2.whl (35 kB)\n",
            "Collecting pyobjc-framework-LaunchServices==9.0.1\n",
            "  Downloading pyobjc_framework_LaunchServices-9.0.1-py2.py3-none-any.whl (3.4 kB)\n",
            "Collecting pyobjc-framework-PreferencePanes==9.0.1\n",
            "  Downloading pyobjc_framework_PreferencePanes-9.0.1-py2.py3-none-any.whl (4.3 kB)\n",
            "Collecting pyobjc-framework-OSLog==9.0.1\n",
            "  Downloading pyobjc_framework_OSLog-9.0.1-cp36-abi3-macosx_11_0_universal2.whl (8.4 kB)\n",
            "Collecting pyobjc-framework-UserNotifications==9.0.1\n",
            "  Downloading pyobjc_framework_UserNotifications-9.0.1-cp36-abi3-macosx_11_0_universal2.whl (10 kB)\n",
            "Collecting pyobjc-framework-AVFoundation==9.0.1\n",
            "  Downloading pyobjc_framework_AVFoundation-9.0.1-cp36-abi3-macosx_11_0_universal2.whl (61 kB)\n",
            "\u001b[2K     \u001b[90m━━━━━━━━━━━━━━━━━━━━━━━━━━━━━━━━━━━━━━━━\u001b[0m \u001b[32m61.8/61.8 kB\u001b[0m \u001b[31m4.3 MB/s\u001b[0m eta \u001b[36m0:00:00\u001b[0m\n",
            "\u001b[?25hCollecting pyobjc-framework-DiscRecording==9.0.1\n",
            "  Downloading pyobjc_framework_DiscRecording-9.0.1-cp36-abi3-macosx_11_0_universal2.whl (15 kB)\n",
            "Collecting pyobjc-framework-CoreLocation==9.0.1\n",
            "  Downloading pyobjc_framework_CoreLocation-9.0.1-cp36-abi3-macosx_11_0_universal2.whl (12 kB)\n",
            "Collecting pyobjc-framework-Automator==9.0.1\n",
            "  Downloading pyobjc_framework_Automator-9.0.1-py2.py3-none-any.whl (5.0 kB)\n",
            "Collecting pyobjc-framework-GameCenter==9.0.1\n",
            "  Downloading pyobjc_framework_GameCenter-9.0.1-cp36-abi3-macosx_11_0_universal2.whl (19 kB)\n",
            "Collecting pyobjc-framework-MultipeerConnectivity==9.0.1\n",
            "  Downloading pyobjc_framework_MultipeerConnectivity-9.0.1-cp36-abi3-macosx_11_0_universal2.whl (12 kB)\n",
            "Collecting pyobjc-framework-PushKit==9.0.1\n",
            "  Downloading pyobjc_framework_PushKit-9.0.1-cp36-abi3-macosx_11_0_universal2.whl (8.9 kB)\n",
            "Collecting pyobjc-framework-AudioVideoBridging==9.0.1\n",
            "  Downloading pyobjc_framework_AudioVideoBridging-9.0.1-py2.py3-none-any.whl (6.4 kB)\n",
            "Collecting pyobjc-framework-ModelIO==9.0.1\n",
            "  Downloading pyobjc_framework_ModelIO-9.0.1-cp36-abi3-macosx_11_0_universal2.whl (20 kB)\n",
            "Collecting pyobjc-framework-ExtensionKit==9.0.1\n",
            "  Downloading pyobjc_framework_ExtensionKit-9.0.1-cp36-abi3-macosx_11_0_universal2.whl (8.7 kB)\n",
            "Collecting pyobjc-framework-libdispatch==9.0.1\n",
            "  Downloading pyobjc_framework_libdispatch-9.0.1-cp310-cp310-macosx_10_9_universal2.whl (20 kB)\n",
            "Collecting pyobjc-framework-ExecutionPolicy==9.0.1\n",
            "  Downloading pyobjc_framework_ExecutionPolicy-9.0.1-py2.py3-none-any.whl (3.3 kB)\n",
            "Collecting pyobjc-framework-SystemExtensions==9.0.1\n",
            "  Downloading pyobjc_framework_SystemExtensions-9.0.1-cp36-abi3-macosx_11_0_universal2.whl (9.4 kB)\n",
            "Collecting pyobjc-framework-SharedWithYou==9.0.1\n",
            "  Downloading pyobjc_framework_SharedWithYou-9.0.1-cp36-abi3-macosx_11_0_universal2.whl (9.2 kB)\n",
            "Collecting pyobjc-framework-Accessibility==9.0.1\n",
            "  Downloading pyobjc_framework_Accessibility-9.0.1-cp36-abi3-macosx_11_0_universal2.whl (10 kB)\n",
            "Collecting pyobjc-framework-LocalAuthenticationEmbeddedUI==9.0.1\n",
            "  Downloading pyobjc_framework_LocalAuthenticationEmbeddedUI-9.0.1-py2.py3-none-any.whl (3.1 kB)\n",
            "Collecting pyobjc-framework-Collaboration==9.0.1\n",
            "  Downloading pyobjc_framework_Collaboration-9.0.1-py2.py3-none-any.whl (4.4 kB)\n",
            "Collecting pyobjc-framework-InstantMessage==9.0.1\n",
            "  Downloading pyobjc_framework_InstantMessage-9.0.1-py2.py3-none-any.whl (4.9 kB)\n",
            "Collecting pyobjc-framework-MetricKit==9.0.1\n",
            "  Downloading pyobjc_framework_MetricKit-9.0.1-cp310-cp310-macosx_10_9_universal2.whl (8.6 kB)\n",
            "Collecting pyobjc-framework-Speech==9.0.1\n",
            "  Downloading pyobjc_framework_Speech-9.0.1-cp36-abi3-macosx_11_0_universal2.whl (9.6 kB)\n",
            "Collecting pyobjc-framework-AddressBook==9.0.1\n",
            "  Downloading pyobjc_framework_AddressBook-9.0.1-cp36-abi3-macosx_11_0_universal2.whl (13 kB)\n",
            "Collecting pyobjc-framework-SceneKit==9.0.1\n",
            "  Downloading pyobjc_framework_SceneKit-9.0.1-cp36-abi3-macosx_11_0_universal2.whl (33 kB)\n",
            "Collecting pyobjc-framework-Intents==9.0.1\n",
            "  Downloading pyobjc_framework_Intents-9.0.1-cp36-abi3-macosx_11_0_universal2.whl (26 kB)\n",
            "Collecting pyobjc-framework-UniformTypeIdentifiers==9.0.1\n",
            "  Downloading pyobjc_framework_UniformTypeIdentifiers-9.0.1-py2.py3-none-any.whl (4.3 kB)\n",
            "Collecting pyobjc-framework-AppleScriptKit==9.0.1\n",
            "  Downloading pyobjc_framework_AppleScriptKit-9.0.1-py2.py3-none-any.whl (3.9 kB)\n",
            "Collecting pyobjc-framework-ReplayKit==9.0.1\n",
            "  Downloading pyobjc_framework_ReplayKit-9.0.1-cp36-abi3-macosx_11_0_universal2.whl (10 kB)\n",
            "Collecting pyobjc-framework-SharedWithYouCore==9.0.1\n",
            "  Downloading pyobjc_framework_SharedWithYouCore-9.0.1-cp36-abi3-macosx_11_0_universal2.whl (8.9 kB)\n",
            "Collecting pyobjc-framework-CoreBluetooth==9.0.1\n",
            "  Downloading pyobjc_framework_CoreBluetooth-9.0.1-cp36-abi3-macosx_11_0_universal2.whl (13 kB)\n",
            "Collecting pyobjc-framework-SpriteKit==9.0.1\n",
            "  Downloading pyobjc_framework_SpriteKit-9.0.1-cp310-cp310-macosx_10_9_universal2.whl (17 kB)\n",
            "Collecting pyobjc-framework-StoreKit==9.0.1\n",
            "  Downloading pyobjc_framework_StoreKit-9.0.1-cp36-abi3-macosx_11_0_universal2.whl (12 kB)\n",
            "Collecting pyobjc-framework-DiscRecordingUI==9.0.1\n",
            "  Downloading pyobjc_framework_DiscRecordingUI-9.0.1-py2.py3-none-any.whl (4.3 kB)\n",
            "Collecting pyobjc-framework-PassKit==9.0.1\n",
            "  Downloading pyobjc_framework_PassKit-9.0.1-cp36-abi3-macosx_11_0_universal2.whl (13 kB)\n",
            "Collecting pyobjc-framework-PencilKit==9.0.1\n",
            "  Downloading pyobjc_framework_PencilKit-9.0.1-py2.py3-none-any.whl (3.2 kB)\n",
            "Collecting pyobjc-framework-ServiceManagement==9.0.1\n",
            "  Downloading pyobjc_framework_ServiceManagement-9.0.1-py2.py3-none-any.whl (4.8 kB)\n",
            "Collecting pyobjc-framework-MapKit==9.0.1\n",
            "  Downloading pyobjc_framework_MapKit-9.0.1-cp36-abi3-macosx_11_0_universal2.whl (22 kB)\n",
            "Collecting pyobjc-framework-ExternalAccessory==9.0.1\n",
            "  Downloading pyobjc_framework_ExternalAccessory-9.0.1-cp36-abi3-macosx_11_0_universal2.whl (9.7 kB)\n",
            "Collecting pyobjc-framework-IMServicePlugIn==9.0.1\n",
            "  Downloading pyobjc_framework_IMServicePlugIn-9.0.1-cp36-abi3-macosx_11_0_universal2.whl (15 kB)\n",
            "Collecting pyobjc-framework-EventKit==9.0.1\n",
            "  Downloading pyobjc_framework_EventKit-9.0.1-py2.py3-none-any.whl (5.9 kB)\n",
            "Collecting pyobjc-framework-WebKit==9.0.1\n",
            "  Downloading pyobjc_framework_WebKit-9.0.1-cp36-abi3-macosx_11_0_universal2.whl (39 kB)\n",
            "Collecting pyobjc-framework-BackgroundAssets==9.0.1\n",
            "  Downloading pyobjc_framework_BackgroundAssets-9.0.1-cp36-abi3-macosx_11_0_universal2.whl (10 kB)\n",
            "Collecting pyobjc-framework-CloudKit==9.0.1\n",
            "  Downloading pyobjc_framework_CloudKit-9.0.1-py2.py3-none-any.whl (8.1 kB)\n",
            "Collecting pyobjc-framework-CallKit==9.0.1\n",
            "  Downloading pyobjc_framework_CallKit-9.0.1-py2.py3-none-any.whl (4.4 kB)\n",
            "Collecting pyobjc-framework-OpenDirectory==9.0.1\n",
            "  Downloading pyobjc_framework_OpenDirectory-9.0.1-py2.py3-none-any.whl (11 kB)\n",
            "Collecting pyobjc-framework-ContactsUI==9.0.1\n",
            "  Downloading pyobjc_framework_ContactsUI-9.0.1-cp36-abi3-macosx_11_0_universal2.whl (8.6 kB)\n",
            "Collecting pyobjc-framework-SystemConfiguration==9.0.1\n",
            "  Downloading pyobjc_framework_SystemConfiguration-9.0.1-cp36-abi3-macosx_11_0_universal2.whl (22 kB)\n",
            "Collecting pyobjc-framework-OSAKit==9.0.1\n",
            "  Downloading pyobjc_framework_OSAKit-9.0.1-py2.py3-none-any.whl (3.6 kB)\n",
            "Collecting pyobjc-framework-UserNotificationsUI==9.0.1\n",
            "  Downloading pyobjc_framework_UserNotificationsUI-9.0.1-py2.py3-none-any.whl (3.5 kB)\n",
            "Collecting pyobjc-framework-Social==9.0.1\n",
            "  Downloading pyobjc_framework_Social-9.0.1-py2.py3-none-any.whl (4.0 kB)\n",
            "Collecting pyobjc-framework-ScreenTime==9.0.1\n",
            "  Downloading pyobjc_framework_ScreenTime-9.0.1-py2.py3-none-any.whl (3.1 kB)\n",
            "Collecting pyobjc-framework-Cocoa==9.0.1\n",
            "  Downloading pyobjc_framework_Cocoa-9.0.1-cp310-cp310-macosx_10_9_universal2.whl (388 kB)\n",
            "\u001b[2K     \u001b[90m━━━━━━━━━━━━━━━━━━━━━━━━━━━━━━━━━━━━━━━\u001b[0m \u001b[32m388.5/388.5 kB\u001b[0m \u001b[31m7.2 MB/s\u001b[0m eta \u001b[36m0:00:00\u001b[0ma \u001b[36m0:00:01\u001b[0m\n",
            "\u001b[?25hCollecting pyobjc-framework-MediaToolbox==9.0.1\n",
            "  Downloading pyobjc_framework_MediaToolbox-9.0.1-cp36-abi3-macosx_11_0_universal2.whl (13 kB)\n",
            "Collecting pyobjc-framework-ThreadNetwork==9.0.1\n",
            "  Downloading pyobjc_framework_ThreadNetwork-9.0.1-py2.py3-none-any.whl (3.2 kB)\n",
            "Collecting pyobjc-framework-MetalKit==9.0.1\n",
            "  Downloading pyobjc_framework_MetalKit-9.0.1-cp36-abi3-macosx_11_0_universal2.whl (9.3 kB)\n",
            "Collecting pyobjc-framework-CoreML==9.0.1\n",
            "  Downloading pyobjc_framework_CoreML-9.0.1-cp36-abi3-macosx_11_0_universal2.whl (10 kB)\n",
            "Collecting pyobjc-framework-AuthenticationServices==9.0.1\n",
            "  Downloading pyobjc_framework_AuthenticationServices-9.0.1-cp36-abi3-macosx_11_0_universal2.whl (14 kB)\n",
            "Collecting pyobjc-framework-SafetyKit==9.0.1\n",
            "  Downloading pyobjc_framework_SafetyKit-9.0.1-cp36-abi3-macosx_11_0_universal2.whl (8.6 kB)\n",
            "Collecting pyobjc-framework-CoreMIDI==9.0.1\n",
            "  Downloading pyobjc_framework_CoreMIDI-9.0.1-cp36-abi3-macosx_11_0_universal2.whl (18 kB)\n",
            "Collecting pyobjc-framework-SecurityInterface==9.0.1\n",
            "  Downloading pyobjc_framework_SecurityInterface-9.0.1-cp36-abi3-macosx_11_0_universal2.whl (11 kB)\n",
            "Collecting pyobjc-framework-iTunesLibrary==9.0.1\n",
            "  Downloading pyobjc_framework_iTunesLibrary-9.0.1-py2.py3-none-any.whl (4.7 kB)\n",
            "Collecting pyobjc-framework-Accounts==9.0.1\n",
            "  Downloading pyobjc_framework_Accounts-9.0.1-py2.py3-none-any.whl (4.6 kB)\n",
            "Collecting pyobjc-framework-LinkPresentation==9.0.1\n",
            "  Downloading pyobjc_framework_LinkPresentation-9.0.1-py2.py3-none-any.whl (3.3 kB)\n",
            "Collecting pyobjc-framework-IntentsUI==9.0.1\n",
            "  Downloading pyobjc_framework_IntentsUI-9.0.1-cp310-cp310-macosx_10_9_universal2.whl (9.9 kB)\n",
            "Collecting pyobjc-framework-ClassKit==9.0.1\n",
            "  Downloading pyobjc_framework_ClassKit-9.0.1-cp36-abi3-macosx_11_0_universal2.whl (8.8 kB)\n",
            "Collecting pyobjc-framework-Metal==9.0.1\n",
            "  Downloading pyobjc_framework_Metal-9.0.1-cp36-abi3-macosx_11_0_universal2.whl (54 kB)\n",
            "\u001b[2K     \u001b[90m━━━━━━━━━━━━━━━━━━━━━━━━━━━━━━━━━━━━━━━━\u001b[0m \u001b[32m54.8/54.8 kB\u001b[0m \u001b[31m4.2 MB/s\u001b[0m eta \u001b[36m0:00:00\u001b[0m\n",
            "\u001b[?25hCollecting pyobjc-framework-MetalPerformanceShaders==9.0.1\n",
            "  Downloading pyobjc_framework_MetalPerformanceShaders-9.0.1-cp36-abi3-macosx_11_0_universal2.whl (26 kB)\n",
            "Collecting pyobjc-framework-HealthKit==9.0.1\n",
            "  Downloading pyobjc_framework_HealthKit-9.0.1-cp36-abi3-macosx_11_0_universal2.whl (18 kB)\n",
            "Collecting pyobjc-framework-AppleScriptObjC==9.0.1\n",
            "  Downloading pyobjc_framework_AppleScriptObjC-9.0.1-py2.py3-none-any.whl (4.0 kB)\n",
            "Collecting pyobjc-framework-DictionaryServices==9.0.1\n",
            "  Downloading pyobjc_framework_DictionaryServices-9.0.1-py2.py3-none-any.whl (3.4 kB)\n",
            "Collecting pyobjc-framework-Contacts==9.0.1\n",
            "  Downloading pyobjc_framework_Contacts-9.0.1-cp36-abi3-macosx_11_0_universal2.whl (12 kB)\n",
            "Collecting pyobjc-framework-CoreWLAN==9.0.1\n",
            "  Downloading pyobjc_framework_CoreWLAN-9.0.1-cp36-abi3-macosx_11_0_universal2.whl (10 kB)\n",
            "Collecting pyobjc-framework-SecurityFoundation==9.0.1\n",
            "  Downloading pyobjc_framework_SecurityFoundation-9.0.1-py2.py3-none-any.whl (3.3 kB)\n",
            "Collecting pyobjc-framework-Photos==9.0.1\n",
            "  Downloading pyobjc_framework_Photos-9.0.1-cp36-abi3-macosx_11_0_universal2.whl (12 kB)\n",
            "Collecting pyobjc-framework-CoreText==9.0.1\n",
            "  Downloading pyobjc_framework_CoreText-9.0.1-cp310-cp310-macosx_10_9_universal2.whl (30 kB)\n",
            "Collecting pyobjc-framework-GameplayKit==9.0.1\n",
            "  Downloading pyobjc_framework_GameplayKit-9.0.1-cp36-abi3-macosx_11_0_universal2.whl (13 kB)\n",
            "Collecting pyobjc-framework-Vision==9.0.1\n",
            "  Downloading pyobjc_framework_Vision-9.0.1-cp36-abi3-macosx_11_0_universal2.whl (16 kB)\n",
            "Collecting pyobjc-framework-Security==9.0.1\n",
            "  Downloading pyobjc_framework_Security-9.0.1-cp310-cp310-macosx_10_9_universal2.whl (40 kB)\n",
            "\u001b[2K     \u001b[90m━━━━━━━━━━━━━━━━━━━━━━━━━━━━━━━━━━━━━━━━\u001b[0m \u001b[32m40.8/40.8 kB\u001b[0m \u001b[31m3.9 MB/s\u001b[0m eta \u001b[36m0:00:00\u001b[0m\n",
            "\u001b[?25hCollecting pyobjc-framework-Network==9.0.1\n",
            "  Downloading pyobjc_framework_Network-9.0.1-cp36-abi3-macosx_11_0_universal2.whl (14 kB)\n",
            "Collecting pyobjc-framework-GameController==9.0.1\n",
            "  Downloading pyobjc_framework_GameController-9.0.1-cp36-abi3-macosx_11_0_universal2.whl (19 kB)\n",
            "Collecting pyobjc-framework-NaturalLanguage==9.0.1\n",
            "  Downloading pyobjc_framework_NaturalLanguage-9.0.1-py2.py3-none-any.whl (4.4 kB)\n",
            "Collecting pyobjc-framework-DataDetection==9.0.1\n",
            "  Downloading pyobjc_framework_DataDetection-9.0.1-py2.py3-none-any.whl (3.0 kB)\n",
            "Collecting pyobjc-framework-LocalAuthentication==9.0.1\n",
            "  Downloading pyobjc_framework_LocalAuthentication-9.0.1-py2.py3-none-any.whl (5.4 kB)\n",
            "Collecting pyobjc-framework-AVKit==9.0.1\n",
            "  Downloading pyobjc_framework_AVKit-9.0.1-cp36-abi3-macosx_11_0_universal2.whl (12 kB)\n",
            "Collecting pyobjc-framework-SoundAnalysis==9.0.1\n",
            "  Downloading pyobjc_framework_SoundAnalysis-9.0.1-py2.py3-none-any.whl (3.5 kB)\n",
            "Collecting pyobjc-framework-CoreAudioKit==9.0.1\n",
            "  Downloading pyobjc_framework_CoreAudioKit-9.0.1-cp36-abi3-macosx_11_0_universal2.whl (7.8 kB)\n",
            "Collecting pyobjc-framework-InstallerPlugins==9.0.1\n",
            "  Downloading pyobjc_framework_InstallerPlugins-9.0.1-py2.py3-none-any.whl (4.3 kB)\n",
            "Collecting pyobjc-framework-NotificationCenter==9.0.1\n",
            "  Downloading pyobjc_framework_NotificationCenter-9.0.1-cp36-abi3-macosx_11_0_universal2.whl (10 kB)\n",
            "Installing collected packages: pyobjc-core, pyobjc-framework-libdispatch, pyobjc-framework-Cocoa, pyobjc-framework-WebKit, pyobjc-framework-Virtualization, pyobjc-framework-VideoSubscriberAccount, pyobjc-framework-UserNotifications, pyobjc-framework-UniformTypeIdentifiers, pyobjc-framework-ThreadNetwork, pyobjc-framework-SystemExtensions, pyobjc-framework-SystemConfiguration, pyobjc-framework-StoreKit, pyobjc-framework-Speech, pyobjc-framework-SoundAnalysis, pyobjc-framework-Social, pyobjc-framework-ShazamKit, pyobjc-framework-SharedWithYouCore, pyobjc-framework-ServiceManagement, pyobjc-framework-Security, pyobjc-framework-ScriptingBridge, pyobjc-framework-ScreenTime, pyobjc-framework-ScreenSaver, pyobjc-framework-SafariServices, pyobjc-framework-ReplayKit, pyobjc-framework-Quartz, pyobjc-framework-PushKit, pyobjc-framework-PreferencePanes, pyobjc-framework-PhotosUI, pyobjc-framework-Photos, pyobjc-framework-PencilKit, pyobjc-framework-PassKit, pyobjc-framework-OSAKit, pyobjc-framework-OpenDirectory, pyobjc-framework-NotificationCenter, pyobjc-framework-NetworkExtension, pyobjc-framework-Network, pyobjc-framework-NetFS, pyobjc-framework-NaturalLanguage, pyobjc-framework-MultipeerConnectivity, pyobjc-framework-MLCompute, pyobjc-framework-MetricKit, pyobjc-framework-Metal, pyobjc-framework-MediaToolbox, pyobjc-framework-MediaAccessibility, pyobjc-framework-MailKit, pyobjc-framework-LatentSemanticMapping, pyobjc-framework-KernelManagement, pyobjc-framework-iTunesLibrary, pyobjc-framework-IOSurface, pyobjc-framework-Intents, pyobjc-framework-InstallerPlugins, pyobjc-framework-InputMethodKit, pyobjc-framework-IMServicePlugIn, pyobjc-framework-ImageCaptureCore, pyobjc-framework-HealthKit, pyobjc-framework-GameController, pyobjc-framework-GameCenter, pyobjc-framework-FSEvents, pyobjc-framework-FinderSync, pyobjc-framework-FileProvider, pyobjc-framework-ExternalAccessory, pyobjc-framework-ExtensionKit, pyobjc-framework-ExecutionPolicy, pyobjc-framework-ExceptionHandling, pyobjc-framework-EventKit, pyobjc-framework-DVDPlayback, pyobjc-framework-DiskArbitration, pyobjc-framework-DiscRecording, pyobjc-framework-DeviceCheck, pyobjc-framework-DataDetection, pyobjc-framework-CryptoTokenKit, pyobjc-framework-CoreWLAN, pyobjc-framework-CoreSpotlight, pyobjc-framework-CoreMotion, pyobjc-framework-CoreML, pyobjc-framework-CoreMIDI, pyobjc-framework-CoreMediaIO, pyobjc-framework-CoreMedia, pyobjc-framework-CoreLocation, pyobjc-framework-CoreHaptics, pyobjc-framework-CoreData, pyobjc-framework-CoreBluetooth, pyobjc-framework-CoreAudio, pyobjc-framework-Contacts, pyobjc-framework-ColorSync, pyobjc-framework-Collaboration, pyobjc-framework-ClassKit, pyobjc-framework-CFNetwork, pyobjc-framework-CallKit, pyobjc-framework-CalendarStore, pyobjc-framework-BusinessChat, pyobjc-framework-BackgroundAssets, pyobjc-framework-AVRouting, pyobjc-framework-Automator, pyobjc-framework-AutomaticAssessmentConfiguration, pyobjc-framework-AuthenticationServices, pyobjc-framework-AudioVideoBridging, pyobjc-framework-AppTrackingTransparency, pyobjc-framework-AppleScriptObjC, pyobjc-framework-AppleScriptKit, pyobjc-framework-AdSupport, pyobjc-framework-AdServices, pyobjc-framework-AddressBook, pyobjc-framework-Accounts, pyobjc-framework-Vision, pyobjc-framework-VideoToolbox, pyobjc-framework-UserNotificationsUI, pyobjc-framework-SyncServices, pyobjc-framework-SpriteKit, pyobjc-framework-SharedWithYou, pyobjc-framework-SecurityInterface, pyobjc-framework-SecurityFoundation, pyobjc-framework-ScreenCaptureKit, pyobjc-framework-SceneKit, pyobjc-framework-SafetyKit, pyobjc-framework-QuickLookThumbnailing, pyobjc-framework-OSLog, pyobjc-framework-ModelIO, pyobjc-framework-MetalPerformanceShaders, pyobjc-framework-MetalKit, pyobjc-framework-MetalFX, pyobjc-framework-MediaLibrary, pyobjc-framework-MapKit, pyobjc-framework-LocalAuthentication, pyobjc-framework-LinkPresentation, pyobjc-framework-IntentsUI, pyobjc-framework-InstantMessage, pyobjc-framework-GameKit, pyobjc-framework-FileProviderUI, pyobjc-framework-DiscRecordingUI, pyobjc-framework-CoreText, pyobjc-framework-CoreServices, pyobjc-framework-CoreAudioKit, pyobjc-framework-ContactsUI, pyobjc-framework-CloudKit, pyobjc-framework-AVKit, pyobjc-framework-AVFoundation, pyobjc-framework-ApplicationServices, pyobjc-framework-Accessibility, pyobjc-framework-SearchKit, pyobjc-framework-MetalPerformanceShadersGraph, pyobjc-framework-MediaPlayer, pyobjc-framework-LocalAuthenticationEmbeddedUI, pyobjc-framework-LaunchServices, pyobjc-framework-GameplayKit, pyobjc-framework-DictionaryServices, pyobjc, pyttsx3\n",
            "Successfully installed pyobjc-9.0.1 pyobjc-core-9.0.1 pyobjc-framework-AVFoundation-9.0.1 pyobjc-framework-AVKit-9.0.1 pyobjc-framework-AVRouting-9.0.1 pyobjc-framework-Accessibility-9.0.1 pyobjc-framework-Accounts-9.0.1 pyobjc-framework-AdServices-9.0.1 pyobjc-framework-AdSupport-9.0.1 pyobjc-framework-AddressBook-9.0.1 pyobjc-framework-AppTrackingTransparency-9.0.1 pyobjc-framework-AppleScriptKit-9.0.1 pyobjc-framework-AppleScriptObjC-9.0.1 pyobjc-framework-ApplicationServices-9.0.1 pyobjc-framework-AudioVideoBridging-9.0.1 pyobjc-framework-AuthenticationServices-9.0.1 pyobjc-framework-AutomaticAssessmentConfiguration-9.0.1 pyobjc-framework-Automator-9.0.1 pyobjc-framework-BackgroundAssets-9.0.1 pyobjc-framework-BusinessChat-9.0.1 pyobjc-framework-CFNetwork-9.0.1 pyobjc-framework-CalendarStore-9.0.1 pyobjc-framework-CallKit-9.0.1 pyobjc-framework-ClassKit-9.0.1 pyobjc-framework-CloudKit-9.0.1 pyobjc-framework-Cocoa-9.0.1 pyobjc-framework-Collaboration-9.0.1 pyobjc-framework-ColorSync-9.0.1 pyobjc-framework-Contacts-9.0.1 pyobjc-framework-ContactsUI-9.0.1 pyobjc-framework-CoreAudio-9.0.1 pyobjc-framework-CoreAudioKit-9.0.1 pyobjc-framework-CoreBluetooth-9.0.1 pyobjc-framework-CoreData-9.0.1 pyobjc-framework-CoreHaptics-9.0.1 pyobjc-framework-CoreLocation-9.0.1 pyobjc-framework-CoreMIDI-9.0.1 pyobjc-framework-CoreML-9.0.1 pyobjc-framework-CoreMedia-9.0.1 pyobjc-framework-CoreMediaIO-9.0.1 pyobjc-framework-CoreMotion-9.0.1 pyobjc-framework-CoreServices-9.0.1 pyobjc-framework-CoreSpotlight-9.0.1 pyobjc-framework-CoreText-9.0.1 pyobjc-framework-CoreWLAN-9.0.1 pyobjc-framework-CryptoTokenKit-9.0.1 pyobjc-framework-DVDPlayback-9.0.1 pyobjc-framework-DataDetection-9.0.1 pyobjc-framework-DeviceCheck-9.0.1 pyobjc-framework-DictionaryServices-9.0.1 pyobjc-framework-DiscRecording-9.0.1 pyobjc-framework-DiscRecordingUI-9.0.1 pyobjc-framework-DiskArbitration-9.0.1 pyobjc-framework-EventKit-9.0.1 pyobjc-framework-ExceptionHandling-9.0.1 pyobjc-framework-ExecutionPolicy-9.0.1 pyobjc-framework-ExtensionKit-9.0.1 pyobjc-framework-ExternalAccessory-9.0.1 pyobjc-framework-FSEvents-9.0.1 pyobjc-framework-FileProvider-9.0.1 pyobjc-framework-FileProviderUI-9.0.1 pyobjc-framework-FinderSync-9.0.1 pyobjc-framework-GameCenter-9.0.1 pyobjc-framework-GameController-9.0.1 pyobjc-framework-GameKit-9.0.1 pyobjc-framework-GameplayKit-9.0.1 pyobjc-framework-HealthKit-9.0.1 pyobjc-framework-IMServicePlugIn-9.0.1 pyobjc-framework-IOSurface-9.0.1 pyobjc-framework-ImageCaptureCore-9.0.1 pyobjc-framework-InputMethodKit-9.0.1 pyobjc-framework-InstallerPlugins-9.0.1 pyobjc-framework-InstantMessage-9.0.1 pyobjc-framework-Intents-9.0.1 pyobjc-framework-IntentsUI-9.0.1 pyobjc-framework-KernelManagement-9.0.1 pyobjc-framework-LatentSemanticMapping-9.0.1 pyobjc-framework-LaunchServices-9.0.1 pyobjc-framework-LinkPresentation-9.0.1 pyobjc-framework-LocalAuthentication-9.0.1 pyobjc-framework-LocalAuthenticationEmbeddedUI-9.0.1 pyobjc-framework-MLCompute-9.0.1 pyobjc-framework-MailKit-9.0.1 pyobjc-framework-MapKit-9.0.1 pyobjc-framework-MediaAccessibility-9.0.1 pyobjc-framework-MediaLibrary-9.0.1 pyobjc-framework-MediaPlayer-9.0.1 pyobjc-framework-MediaToolbox-9.0.1 pyobjc-framework-Metal-9.0.1 pyobjc-framework-MetalFX-9.0.1 pyobjc-framework-MetalKit-9.0.1 pyobjc-framework-MetalPerformanceShaders-9.0.1 pyobjc-framework-MetalPerformanceShadersGraph-9.0.1 pyobjc-framework-MetricKit-9.0.1 pyobjc-framework-ModelIO-9.0.1 pyobjc-framework-MultipeerConnectivity-9.0.1 pyobjc-framework-NaturalLanguage-9.0.1 pyobjc-framework-NetFS-9.0.1 pyobjc-framework-Network-9.0.1 pyobjc-framework-NetworkExtension-9.0.1 pyobjc-framework-NotificationCenter-9.0.1 pyobjc-framework-OSAKit-9.0.1 pyobjc-framework-OSLog-9.0.1 pyobjc-framework-OpenDirectory-9.0.1 pyobjc-framework-PassKit-9.0.1 pyobjc-framework-PencilKit-9.0.1 pyobjc-framework-Photos-9.0.1 pyobjc-framework-PhotosUI-9.0.1 pyobjc-framework-PreferencePanes-9.0.1 pyobjc-framework-PushKit-9.0.1 pyobjc-framework-Quartz-9.0.1 pyobjc-framework-QuickLookThumbnailing-9.0.1 pyobjc-framework-ReplayKit-9.0.1 pyobjc-framework-SafariServices-9.0.1 pyobjc-framework-SafetyKit-9.0.1 pyobjc-framework-SceneKit-9.0.1 pyobjc-framework-ScreenCaptureKit-9.0.1 pyobjc-framework-ScreenSaver-9.0.1 pyobjc-framework-ScreenTime-9.0.1 pyobjc-framework-ScriptingBridge-9.0.1 pyobjc-framework-SearchKit-9.0.1 pyobjc-framework-Security-9.0.1 pyobjc-framework-SecurityFoundation-9.0.1 pyobjc-framework-SecurityInterface-9.0.1 pyobjc-framework-ServiceManagement-9.0.1 pyobjc-framework-SharedWithYou-9.0.1 pyobjc-framework-SharedWithYouCore-9.0.1 pyobjc-framework-ShazamKit-9.0.1 pyobjc-framework-Social-9.0.1 pyobjc-framework-SoundAnalysis-9.0.1 pyobjc-framework-Speech-9.0.1 pyobjc-framework-SpriteKit-9.0.1 pyobjc-framework-StoreKit-9.0.1 pyobjc-framework-SyncServices-9.0.1 pyobjc-framework-SystemConfiguration-9.0.1 pyobjc-framework-SystemExtensions-9.0.1 pyobjc-framework-ThreadNetwork-9.0.1 pyobjc-framework-UniformTypeIdentifiers-9.0.1 pyobjc-framework-UserNotifications-9.0.1 pyobjc-framework-UserNotificationsUI-9.0.1 pyobjc-framework-VideoSubscriberAccount-9.0.1 pyobjc-framework-VideoToolbox-9.0.1 pyobjc-framework-Virtualization-9.0.1 pyobjc-framework-Vision-9.0.1 pyobjc-framework-WebKit-9.0.1 pyobjc-framework-iTunesLibrary-9.0.1 pyobjc-framework-libdispatch-9.0.1 pyttsx3-2.90\n",
            "\n",
            "\u001b[1m[\u001b[0m\u001b[34;49mnotice\u001b[0m\u001b[1;39;49m]\u001b[0m\u001b[39;49m A new release of pip available: \u001b[0m\u001b[31;49m22.2.2\u001b[0m\u001b[39;49m -> \u001b[0m\u001b[32;49m22.3.1\u001b[0m\n",
            "\u001b[1m[\u001b[0m\u001b[34;49mnotice\u001b[0m\u001b[1;39;49m]\u001b[0m\u001b[39;49m To update, run: \u001b[0m\u001b[32;49mpython3.10 -m pip install --upgrade pip\u001b[0m\n",
            "Note: you may need to restart the kernel to use updated packages.\n"
          ]
        }
      ],
      "source": [
        "pip install pyttsx3"
      ]
    },
    {
      "cell_type": "code",
      "execution_count": 7,
      "metadata": {
        "colab": {
          "base_uri": "https://localhost:8080/"
        },
        "id": "FtP0EDgiAshc",
        "outputId": "56655bc5-6a05-403a-c7b9-b2ed9ffa7b3d"
      },
      "outputs": [
        {
          "name": "stdout",
          "output_type": "stream",
          "text": [
            "Collecting tk\n",
            "  Downloading tk-0.1.0-py3-none-any.whl (3.9 kB)\n",
            "Installing collected packages: tk\n",
            "Successfully installed tk-0.1.0\n",
            "\n",
            "\u001b[1m[\u001b[0m\u001b[34;49mnotice\u001b[0m\u001b[1;39;49m]\u001b[0m\u001b[39;49m A new release of pip available: \u001b[0m\u001b[31;49m22.2.2\u001b[0m\u001b[39;49m -> \u001b[0m\u001b[32;49m22.3.1\u001b[0m\n",
            "\u001b[1m[\u001b[0m\u001b[34;49mnotice\u001b[0m\u001b[1;39;49m]\u001b[0m\u001b[39;49m To update, run: \u001b[0m\u001b[32;49mpython3.10 -m pip install --upgrade pip\u001b[0m\n",
            "Note: you may need to restart the kernel to use updated packages.\n"
          ]
        }
      ],
      "source": [
        "pip install tk"
      ]
    },
    {
      "cell_type": "code",
      "execution_count": 8,
      "metadata": {
        "colab": {
          "base_uri": "https://localhost:8080/"
        },
        "id": "kgxNLb23KB2m",
        "outputId": "7e14c3dd-e4ae-44cd-d4bb-92a904d34b07"
      },
      "outputs": [
        {
          "name": "stdout",
          "output_type": "stream",
          "text": [
            "Collecting datetime\n",
            "  Downloading DateTime-5.0-py3-none-any.whl (52 kB)\n",
            "\u001b[2K     \u001b[90m━━━━━━━━━━━━━━━━━━━━━━━━━━━━━━━━━━━━━━━━\u001b[0m \u001b[32m52.1/52.1 kB\u001b[0m \u001b[31m2.0 MB/s\u001b[0m eta \u001b[36m0:00:00\u001b[0m\n",
            "\u001b[?25hCollecting zope.interface\n",
            "  Downloading zope.interface-5.5.2-cp310-cp310-macosx_11_0_arm64.whl (210 kB)\n",
            "\u001b[2K     \u001b[90m━━━━━━━━━━━━━━━━━━━━━━━━━━━━━━━━━━━━━━━\u001b[0m \u001b[32m210.2/210.2 kB\u001b[0m \u001b[31m6.0 MB/s\u001b[0m eta \u001b[36m0:00:00\u001b[0m\n",
            "\u001b[?25hCollecting pytz\n",
            "  Downloading pytz-2022.7.1-py2.py3-none-any.whl (499 kB)\n",
            "\u001b[2K     \u001b[90m━━━━━━━━━━━━━━━━━━━━━━━━━━━━━━━━━━━━━━━\u001b[0m \u001b[32m499.4/499.4 kB\u001b[0m \u001b[31m9.2 MB/s\u001b[0m eta \u001b[36m0:00:00\u001b[0ma \u001b[36m0:00:01\u001b[0m\n",
            "\u001b[?25hRequirement already satisfied: setuptools in /opt/homebrew/lib/python3.10/site-packages (from zope.interface->datetime) (65.4.1)\n",
            "Installing collected packages: pytz, zope.interface, datetime\n",
            "Successfully installed datetime-5.0 pytz-2022.7.1 zope.interface-5.5.2\n",
            "\n",
            "\u001b[1m[\u001b[0m\u001b[34;49mnotice\u001b[0m\u001b[1;39;49m]\u001b[0m\u001b[39;49m A new release of pip available: \u001b[0m\u001b[31;49m22.2.2\u001b[0m\u001b[39;49m -> \u001b[0m\u001b[32;49m22.3.1\u001b[0m\n",
            "\u001b[1m[\u001b[0m\u001b[34;49mnotice\u001b[0m\u001b[1;39;49m]\u001b[0m\u001b[39;49m To update, run: \u001b[0m\u001b[32;49mpython3.10 -m pip install --upgrade pip\u001b[0m\n",
            "Note: you may need to restart the kernel to use updated packages.\n"
          ]
        }
      ],
      "source": [
        "pip install datetime"
      ]
    },
    {
      "cell_type": "code",
      "execution_count": 11,
      "metadata": {
        "colab": {
          "base_uri": "https://localhost:8080/"
        },
        "id": "cBfxv4kJTxU6",
        "outputId": "eb7d62b7-bd1c-4caf-fbae-3fef8049c855"
      },
      "outputs": [
        {
          "name": "stdout",
          "output_type": "stream",
          "text": [
            "Requirement already satisfied: python-docx in /opt/homebrew/lib/python3.10/site-packages (0.8.11)\n",
            "Requirement already satisfied: lxml>=2.3.2 in /opt/homebrew/lib/python3.10/site-packages (from python-docx) (4.9.2)\n",
            "\n",
            "\u001b[1m[\u001b[0m\u001b[34;49mnotice\u001b[0m\u001b[1;39;49m]\u001b[0m\u001b[39;49m A new release of pip available: \u001b[0m\u001b[31;49m22.2.2\u001b[0m\u001b[39;49m -> \u001b[0m\u001b[32;49m22.3.1\u001b[0m\n",
            "\u001b[1m[\u001b[0m\u001b[34;49mnotice\u001b[0m\u001b[1;39;49m]\u001b[0m\u001b[39;49m To update, run: \u001b[0m\u001b[32;49mpython3.10 -m pip install --upgrade pip\u001b[0m\n",
            "Note: you may need to restart the kernel to use updated packages.\n"
          ]
        }
      ],
      "source": [
        "pip install python-docx "
      ]
    },
    {
      "cell_type": "code",
      "execution_count": 16,
      "metadata": {},
      "outputs": [
        {
          "ename": "SyntaxError",
          "evalue": "invalid syntax (40166510.py, line 1)",
          "output_type": "error",
          "traceback": [
            "\u001b[0;36m  Cell \u001b[0;32mIn[16], line 1\u001b[0;36m\u001b[0m\n\u001b[0;31m    brew update\u001b[0m\n\u001b[0m         ^\u001b[0m\n\u001b[0;31mSyntaxError\u001b[0m\u001b[0;31m:\u001b[0m invalid syntax\n"
          ]
        }
      ],
      "source": [
        "brew update"
      ]
    },
    {
      "cell_type": "code",
      "execution_count": 20,
      "metadata": {
        "id": "ezPspaDQO1LD"
      },
      "outputs": [],
      "source": [
        "import pyttsx3\n",
        "import speech_recognition as sr\n",
        "import pyaudio\n",
        "import docx"
      ]
    },
    {
      "cell_type": "code",
      "execution_count": 21,
      "metadata": {
        "id": "J5byujggB5I_"
      },
      "outputs": [],
      "source": [
        "#setting up the recorder\n",
        "recorder = sr.Recognizer() \n",
        "\n",
        "#sets up an engine to capture audio\n",
        "def convertspeech(command): \n",
        "  engine = pyttsx3.init()\n",
        "  engine.say(command)\n",
        "  engine.runAndWait()\n"
      ]
    },
    {
      "cell_type": "code",
      "execution_count": 22,
      "metadata": {
        "id": "qzcoJ979UNQn"
      },
      "outputs": [],
      "source": [
        "#word document to store the output\n",
        "doc = docx.Document() "
      ]
    },
    {
      "cell_type": "code",
      "execution_count": 23,
      "metadata": {
        "colab": {
          "base_uri": "https://localhost:8080/",
          "height": 383
        },
        "id": "LNok9o8rFqvD",
        "outputId": "eafd6708-9656-4fcb-e915-ef321213273e"
      },
      "outputs": [
        {
          "name": "stdout",
          "output_type": "stream",
          "text": [
            "Waiting for audio input....\n"
          ]
        },
        {
          "ename": "AttributeError",
          "evalue": "Could not find PyAudio; check installation",
          "output_type": "error",
          "traceback": [
            "\u001b[0;31m---------------------------------------------------------------------------\u001b[0m",
            "\u001b[0;31mModuleNotFoundError\u001b[0m                       Traceback (most recent call last)",
            "File \u001b[0;32m/opt/homebrew/lib/python3.10/site-packages/speech_recognition/__init__.py:120\u001b[0m, in \u001b[0;36mMicrophone.get_pyaudio\u001b[0;34m()\u001b[0m\n\u001b[1;32m    119\u001b[0m \u001b[39mtry\u001b[39;00m:\n\u001b[0;32m--> 120\u001b[0m     \u001b[39mimport\u001b[39;00m \u001b[39mpyaudio\u001b[39;00m\n\u001b[1;32m    121\u001b[0m \u001b[39mexcept\u001b[39;00m \u001b[39mImportError\u001b[39;00m:\n",
            "\u001b[0;31mModuleNotFoundError\u001b[0m: No module named 'pyaudio'",
            "\nDuring handling of the above exception, another exception occurred:\n",
            "\u001b[0;31mAttributeError\u001b[0m                            Traceback (most recent call last)",
            "Cell \u001b[0;32mIn[23], line 5\u001b[0m\n\u001b[1;32m      3\u001b[0m \u001b[39mprint\u001b[39m(\u001b[39m\"\u001b[39m\u001b[39mWaiting for audio input....\u001b[39m\u001b[39m\"\u001b[39m)\n\u001b[1;32m      4\u001b[0m \u001b[39mtry\u001b[39;00m:\n\u001b[0;32m----> 5\u001b[0m   \u001b[39mwith\u001b[39;00m sr\u001b[39m.\u001b[39;49mMicrophone(device_index \u001b[39m=\u001b[39;49m \u001b[39m0\u001b[39;49m) \u001b[39mas\u001b[39;00m source: \u001b[39m#setting the device microphone as the source of the sound\u001b[39;00m\n\u001b[1;32m      6\u001b[0m     recorder\u001b[39m.\u001b[39madjust_for_ambient_noise(source,duration \u001b[39m=\u001b[39m \u001b[39m0.5\u001b[39m) \u001b[39m#eliminates any background noises\u001b[39;00m\n\u001b[1;32m      7\u001b[0m     audio \u001b[39m=\u001b[39m recorder\u001b[39m.\u001b[39mlisten(source) \u001b[39m#records the audio\u001b[39;00m\n",
            "File \u001b[0;32m/opt/homebrew/lib/python3.10/site-packages/speech_recognition/__init__.py:92\u001b[0m, in \u001b[0;36mMicrophone.__init__\u001b[0;34m(self, device_index, sample_rate, chunk_size)\u001b[0m\n\u001b[1;32m     89\u001b[0m \u001b[39massert\u001b[39;00m \u001b[39misinstance\u001b[39m(chunk_size, \u001b[39mint\u001b[39m) \u001b[39mand\u001b[39;00m chunk_size \u001b[39m>\u001b[39m \u001b[39m0\u001b[39m, \u001b[39m\"\u001b[39m\u001b[39mChunk size must be a positive integer\u001b[39m\u001b[39m\"\u001b[39m\n\u001b[1;32m     91\u001b[0m \u001b[39m# set up PyAudio\u001b[39;00m\n\u001b[0;32m---> 92\u001b[0m \u001b[39mself\u001b[39m\u001b[39m.\u001b[39mpyaudio_module \u001b[39m=\u001b[39m \u001b[39mself\u001b[39;49m\u001b[39m.\u001b[39;49mget_pyaudio()\n\u001b[1;32m     93\u001b[0m audio \u001b[39m=\u001b[39m \u001b[39mself\u001b[39m\u001b[39m.\u001b[39mpyaudio_module\u001b[39m.\u001b[39mPyAudio()\n\u001b[1;32m     94\u001b[0m \u001b[39mtry\u001b[39;00m:\n",
            "File \u001b[0;32m/opt/homebrew/lib/python3.10/site-packages/speech_recognition/__init__.py:122\u001b[0m, in \u001b[0;36mMicrophone.get_pyaudio\u001b[0;34m()\u001b[0m\n\u001b[1;32m    120\u001b[0m     \u001b[39mimport\u001b[39;00m \u001b[39mpyaudio\u001b[39;00m\n\u001b[1;32m    121\u001b[0m \u001b[39mexcept\u001b[39;00m \u001b[39mImportError\u001b[39;00m:\n\u001b[0;32m--> 122\u001b[0m     \u001b[39mraise\u001b[39;00m \u001b[39mAttributeError\u001b[39;00m(\u001b[39m\"\u001b[39m\u001b[39mCould not find PyAudio; check installation\u001b[39m\u001b[39m\"\u001b[39m)\n\u001b[1;32m    123\u001b[0m \u001b[39mfrom\u001b[39;00m \u001b[39mdistutils\u001b[39;00m\u001b[39m.\u001b[39;00m\u001b[39mversion\u001b[39;00m \u001b[39mimport\u001b[39;00m LooseVersion\n\u001b[1;32m    124\u001b[0m \u001b[39mif\u001b[39;00m LooseVersion(pyaudio\u001b[39m.\u001b[39m__version__) \u001b[39m<\u001b[39m LooseVersion(\u001b[39m\"\u001b[39m\u001b[39m0.2.11\u001b[39m\u001b[39m\"\u001b[39m):\n",
            "\u001b[0;31mAttributeError\u001b[0m: Could not find PyAudio; check installation"
          ]
        }
      ],
      "source": [
        "#Loop infinitely, waiting for the user to speak\n",
        "while(1):\n",
        "  print(\"Waiting for audio input....\")\n",
        "  try:\n",
        "    with sr.Microphone(device_index = 0) as source: #setting the device microphone as the source of the sound\n",
        "      recorder.adjust_for_ambient_noise(source,duration = 0.5) #eliminates any background noises\n",
        "      audio = recorder.listen(source) #records the audio\n",
        "      text = recorder.recognize_google(audio) #converts the audio to text\n",
        "      doc.add_paragraph(text) #stores the text to a word document\n",
        "\n",
        "      #write the text to a word file\n",
        "\n",
        "  except sr.RequestError:\n",
        "    print(\"Sorry, cannot request your results!\")\n",
        "  except sr.UnknownValueError:\n",
        "    print(\"Sorry, someting went wrong.\")"
      ]
    },
    {
      "cell_type": "code",
      "execution_count": null,
      "metadata": {
        "id": "isT7HDM4VErR"
      },
      "outputs": [],
      "source": [
        "#saves the document to the path - we need to configure the path\n",
        "doc.save('path_to_document')"
      ]
    }
  ],
  "metadata": {
    "colab": {
      "provenance": []
    },
    "kernelspec": {
      "display_name": "Python 3.10.8 64-bit",
      "language": "python",
      "name": "python3"
    },
    "language_info": {
      "codemirror_mode": {
        "name": "ipython",
        "version": 3
      },
      "file_extension": ".py",
      "mimetype": "text/x-python",
      "name": "python",
      "nbconvert_exporter": "python",
      "pygments_lexer": "ipython3",
      "version": "3.10.8"
    },
    "vscode": {
      "interpreter": {
        "hash": "b0fa6594d8f4cbf19f97940f81e996739fb7646882a419484c72d19e05852a7e"
      }
    }
  },
  "nbformat": 4,
  "nbformat_minor": 0
}
