{
  "cells": [
    {
      "cell_type": "code",
      "execution_count": 47,
      "metadata": {
        "colab": {
          "base_uri": "https://localhost:8080/"
        },
        "id": "gpl2J2agORXh",
        "outputId": "1c7764fc-2fe2-4615-8d57-50c5427d70d8"
      },
      "outputs": [
        {
          "name": "stdout",
          "output_type": "stream",
          "text": [
            "Requirement already satisfied: SpeechRecognition in /opt/homebrew/lib/python3.10/site-packages (3.9.0)\n",
            "Requirement already satisfied: requests>=2.26.0 in /opt/homebrew/lib/python3.10/site-packages (from SpeechRecognition) (2.28.2)\n",
            "Requirement already satisfied: urllib3<1.27,>=1.21.1 in /opt/homebrew/lib/python3.10/site-packages (from requests>=2.26.0->SpeechRecognition) (1.26.14)\n",
            "Requirement already satisfied: charset-normalizer<4,>=2 in /opt/homebrew/lib/python3.10/site-packages (from requests>=2.26.0->SpeechRecognition) (3.0.1)\n",
            "Requirement already satisfied: certifi>=2017.4.17 in /opt/homebrew/lib/python3.10/site-packages (from requests>=2.26.0->SpeechRecognition) (2022.12.7)\n",
            "Requirement already satisfied: idna<4,>=2.5 in /Users/jameschin/Library/Python/3.10/lib/python/site-packages (from requests>=2.26.0->SpeechRecognition) (3.4)\n",
            "\n",
            "\u001b[1m[\u001b[0m\u001b[34;49mnotice\u001b[0m\u001b[1;39;49m]\u001b[0m\u001b[39;49m A new release of pip available: \u001b[0m\u001b[31;49m22.2.2\u001b[0m\u001b[39;49m -> \u001b[0m\u001b[32;49m22.3.1\u001b[0m\n",
            "\u001b[1m[\u001b[0m\u001b[34;49mnotice\u001b[0m\u001b[1;39;49m]\u001b[0m\u001b[39;49m To update, run: \u001b[0m\u001b[32;49mpython3.10 -m pip install --upgrade pip\u001b[0m\n",
            "Note: you may need to restart the kernel to use updated packages.\n"
          ]
        }
      ],
      "source": [
        "pip install SpeechRecognition"
      ]
    },
    {
      "cell_type": "code",
      "execution_count": 48,
      "metadata": {
        "colab": {
          "base_uri": "https://localhost:8080/"
        },
        "id": "YtvTxT4AO_db",
        "outputId": "9fa34dfc-fd42-411b-8e2c-d3ffe1d4c472"
      },
      "outputs": [
        {
          "name": "stdout",
          "output_type": "stream",
          "text": [
            "Requirement already satisfied: pipwin in /opt/homebrew/lib/python3.10/site-packages (0.5.2)\n",
            "Requirement already satisfied: packaging in /Users/jameschin/Library/Python/3.10/lib/python/site-packages (from pipwin) (23.0)\n",
            "Requirement already satisfied: docopt in /opt/homebrew/lib/python3.10/site-packages (from pipwin) (0.6.2)\n",
            "Requirement already satisfied: beautifulsoup4>=4.9.0 in /Users/jameschin/Library/Python/3.10/lib/python/site-packages (from pipwin) (4.11.1)\n",
            "Requirement already satisfied: pyprind in /opt/homebrew/lib/python3.10/site-packages (from pipwin) (2.11.3)\n",
            "Requirement already satisfied: js2py in /opt/homebrew/lib/python3.10/site-packages (from pipwin) (0.74)\n",
            "Requirement already satisfied: pySmartDL>=1.3.1 in /opt/homebrew/lib/python3.10/site-packages (from pipwin) (1.3.4)\n",
            "Requirement already satisfied: requests in /opt/homebrew/lib/python3.10/site-packages (from pipwin) (2.28.2)\n",
            "Requirement already satisfied: six in /opt/homebrew/lib/python3.10/site-packages (from pipwin) (1.16.0)\n",
            "Requirement already satisfied: soupsieve>1.2 in /Users/jameschin/Library/Python/3.10/lib/python/site-packages (from beautifulsoup4>=4.9.0->pipwin) (2.3.2.post1)\n",
            "Requirement already satisfied: pyjsparser>=2.5.1 in /opt/homebrew/lib/python3.10/site-packages (from js2py->pipwin) (2.7.1)\n",
            "Requirement already satisfied: tzlocal>=1.2 in /opt/homebrew/lib/python3.10/site-packages (from js2py->pipwin) (4.2)\n",
            "Requirement already satisfied: certifi>=2017.4.17 in /opt/homebrew/lib/python3.10/site-packages (from requests->pipwin) (2022.12.7)\n",
            "Requirement already satisfied: urllib3<1.27,>=1.21.1 in /opt/homebrew/lib/python3.10/site-packages (from requests->pipwin) (1.26.14)\n",
            "Requirement already satisfied: idna<4,>=2.5 in /Users/jameschin/Library/Python/3.10/lib/python/site-packages (from requests->pipwin) (3.4)\n",
            "Requirement already satisfied: charset-normalizer<4,>=2 in /opt/homebrew/lib/python3.10/site-packages (from requests->pipwin) (3.0.1)\n",
            "Requirement already satisfied: pytz-deprecation-shim in /opt/homebrew/lib/python3.10/site-packages (from tzlocal>=1.2->js2py->pipwin) (0.1.0.post0)\n",
            "Requirement already satisfied: tzdata in /opt/homebrew/lib/python3.10/site-packages (from pytz-deprecation-shim->tzlocal>=1.2->js2py->pipwin) (2022.7)\n",
            "\n",
            "\u001b[1m[\u001b[0m\u001b[34;49mnotice\u001b[0m\u001b[1;39;49m]\u001b[0m\u001b[39;49m A new release of pip available: \u001b[0m\u001b[31;49m22.2.2\u001b[0m\u001b[39;49m -> \u001b[0m\u001b[32;49m22.3.1\u001b[0m\n",
            "\u001b[1m[\u001b[0m\u001b[34;49mnotice\u001b[0m\u001b[1;39;49m]\u001b[0m\u001b[39;49m To update, run: \u001b[0m\u001b[32;49mpython3.10 -m pip install --upgrade pip\u001b[0m\n",
            "Note: you may need to restart the kernel to use updated packages.\n"
          ]
        }
      ],
      "source": [
        "pip install pipwin"
      ]
    },
    {
      "cell_type": "code",
      "execution_count": 49,
      "metadata": {
        "colab": {
          "base_uri": "https://localhost:8080/"
        },
        "id": "q23H0y0jPE83",
        "outputId": "18f58091-4924-4d5c-c20f-57d5b6e1be85"
      },
      "outputs": [
        {
          "name": "stdout",
          "output_type": "stream",
          "text": [
            "The operation couldn’t be completed. Unable to locate a Java Runtime that supports apt.\n",
            "Please visit http://www.java.com for information on installing Java.\n",
            "\n"
          ]
        }
      ],
      "source": [
        "!apt install libasound2-dev portaudio19-dev libportaudio2 libportaudiocpp0 ffmpeg"
      ]
    },
    {
      "cell_type": "code",
      "execution_count": 50,
      "metadata": {
        "colab": {
          "base_uri": "https://localhost:8080/"
        },
        "id": "prZry9dpQEYn",
        "outputId": "e58e2424-3f25-4f05-f88e-bc24a3348dc7"
      },
      "outputs": [
        {
          "name": "stdout",
          "output_type": "stream",
          "text": [
            "zsh:1: command not found: pip\n"
          ]
        }
      ],
      "source": [
        "!pip install pyaudio"
      ]
    },
    {
      "cell_type": "code",
      "execution_count": 51,
      "metadata": {
        "colab": {
          "base_uri": "https://localhost:8080/"
        },
        "id": "HhLt9EqOPCyI",
        "outputId": "b527a43c-b92f-4cd1-9fb2-d7910f6557f1"
      },
      "outputs": [
        {
          "name": "stdout",
          "output_type": "stream",
          "text": [
            "Requirement already satisfied: pyttsx3 in /opt/homebrew/lib/python3.10/site-packages (2.90)\n",
            "Requirement already satisfied: pyobjc>=2.4 in /opt/homebrew/lib/python3.10/site-packages (from pyttsx3) (9.0.1)\n",
            "Requirement already satisfied: pyobjc-framework-LocalAuthenticationEmbeddedUI==9.0.1 in /opt/homebrew/lib/python3.10/site-packages (from pyobjc>=2.4->pyttsx3) (9.0.1)\n",
            "Requirement already satisfied: pyobjc-framework-Network==9.0.1 in /opt/homebrew/lib/python3.10/site-packages (from pyobjc>=2.4->pyttsx3) (9.0.1)\n",
            "Requirement already satisfied: pyobjc-framework-DiscRecordingUI==9.0.1 in /opt/homebrew/lib/python3.10/site-packages (from pyobjc>=2.4->pyttsx3) (9.0.1)\n",
            "Requirement already satisfied: pyobjc-framework-AppTrackingTransparency==9.0.1 in /opt/homebrew/lib/python3.10/site-packages (from pyobjc>=2.4->pyttsx3) (9.0.1)\n",
            "Requirement already satisfied: pyobjc-framework-VideoSubscriberAccount==9.0.1 in /opt/homebrew/lib/python3.10/site-packages (from pyobjc>=2.4->pyttsx3) (9.0.1)\n",
            "Requirement already satisfied: pyobjc-framework-Accessibility==9.0.1 in /opt/homebrew/lib/python3.10/site-packages (from pyobjc>=2.4->pyttsx3) (9.0.1)\n",
            "Requirement already satisfied: pyobjc-framework-ContactsUI==9.0.1 in /opt/homebrew/lib/python3.10/site-packages (from pyobjc>=2.4->pyttsx3) (9.0.1)\n",
            "Requirement already satisfied: pyobjc-framework-SharedWithYouCore==9.0.1 in /opt/homebrew/lib/python3.10/site-packages (from pyobjc>=2.4->pyttsx3) (9.0.1)\n",
            "Requirement already satisfied: pyobjc-framework-DataDetection==9.0.1 in /opt/homebrew/lib/python3.10/site-packages (from pyobjc>=2.4->pyttsx3) (9.0.1)\n",
            "Requirement already satisfied: pyobjc-framework-GameController==9.0.1 in /opt/homebrew/lib/python3.10/site-packages (from pyobjc>=2.4->pyttsx3) (9.0.1)\n",
            "Requirement already satisfied: pyobjc-framework-PreferencePanes==9.0.1 in /opt/homebrew/lib/python3.10/site-packages (from pyobjc>=2.4->pyttsx3) (9.0.1)\n",
            "Requirement already satisfied: pyobjc-framework-Cocoa==9.0.1 in /opt/homebrew/lib/python3.10/site-packages (from pyobjc>=2.4->pyttsx3) (9.0.1)\n",
            "Requirement already satisfied: pyobjc-framework-Speech==9.0.1 in /opt/homebrew/lib/python3.10/site-packages (from pyobjc>=2.4->pyttsx3) (9.0.1)\n",
            "Requirement already satisfied: pyobjc-framework-ApplicationServices==9.0.1 in /opt/homebrew/lib/python3.10/site-packages (from pyobjc>=2.4->pyttsx3) (9.0.1)\n",
            "Requirement already satisfied: pyobjc-framework-ScreenCaptureKit==9.0.1 in /opt/homebrew/lib/python3.10/site-packages (from pyobjc>=2.4->pyttsx3) (9.0.1)\n",
            "Requirement already satisfied: pyobjc-framework-CoreText==9.0.1 in /opt/homebrew/lib/python3.10/site-packages (from pyobjc>=2.4->pyttsx3) (9.0.1)\n",
            "Requirement already satisfied: pyobjc-framework-AuthenticationServices==9.0.1 in /opt/homebrew/lib/python3.10/site-packages (from pyobjc>=2.4->pyttsx3) (9.0.1)\n",
            "Requirement already satisfied: pyobjc-framework-CoreHaptics==9.0.1 in /opt/homebrew/lib/python3.10/site-packages (from pyobjc>=2.4->pyttsx3) (9.0.1)\n",
            "Requirement already satisfied: pyobjc-framework-Quartz==9.0.1 in /opt/homebrew/lib/python3.10/site-packages (from pyobjc>=2.4->pyttsx3) (9.0.1)\n",
            "Requirement already satisfied: pyobjc-framework-ShazamKit==9.0.1 in /opt/homebrew/lib/python3.10/site-packages (from pyobjc>=2.4->pyttsx3) (9.0.1)\n",
            "Requirement already satisfied: pyobjc-framework-CloudKit==9.0.1 in /opt/homebrew/lib/python3.10/site-packages (from pyobjc>=2.4->pyttsx3) (9.0.1)\n",
            "Requirement already satisfied: pyobjc-framework-InstantMessage==9.0.1 in /opt/homebrew/lib/python3.10/site-packages (from pyobjc>=2.4->pyttsx3) (9.0.1)\n",
            "Requirement already satisfied: pyobjc-framework-SafetyKit==9.0.1 in /opt/homebrew/lib/python3.10/site-packages (from pyobjc>=2.4->pyttsx3) (9.0.1)\n",
            "Requirement already satisfied: pyobjc-framework-DeviceCheck==9.0.1 in /opt/homebrew/lib/python3.10/site-packages (from pyobjc>=2.4->pyttsx3) (9.0.1)\n",
            "Requirement already satisfied: pyobjc-framework-Collaboration==9.0.1 in /opt/homebrew/lib/python3.10/site-packages (from pyobjc>=2.4->pyttsx3) (9.0.1)\n",
            "Requirement already satisfied: pyobjc-framework-UserNotificationsUI==9.0.1 in /opt/homebrew/lib/python3.10/site-packages (from pyobjc>=2.4->pyttsx3) (9.0.1)\n",
            "Requirement already satisfied: pyobjc-framework-VideoToolbox==9.0.1 in /opt/homebrew/lib/python3.10/site-packages (from pyobjc>=2.4->pyttsx3) (9.0.1)\n",
            "Requirement already satisfied: pyobjc-framework-WebKit==9.0.1 in /opt/homebrew/lib/python3.10/site-packages (from pyobjc>=2.4->pyttsx3) (9.0.1)\n",
            "Requirement already satisfied: pyobjc-framework-MetalPerformanceShadersGraph==9.0.1 in /opt/homebrew/lib/python3.10/site-packages (from pyobjc>=2.4->pyttsx3) (9.0.1)\n",
            "Requirement already satisfied: pyobjc-framework-PassKit==9.0.1 in /opt/homebrew/lib/python3.10/site-packages (from pyobjc>=2.4->pyttsx3) (9.0.1)\n",
            "Requirement already satisfied: pyobjc-framework-SecurityFoundation==9.0.1 in /opt/homebrew/lib/python3.10/site-packages (from pyobjc>=2.4->pyttsx3) (9.0.1)\n",
            "Requirement already satisfied: pyobjc-framework-IOSurface==9.0.1 in /opt/homebrew/lib/python3.10/site-packages (from pyobjc>=2.4->pyttsx3) (9.0.1)\n",
            "Requirement already satisfied: pyobjc-framework-CoreMediaIO==9.0.1 in /opt/homebrew/lib/python3.10/site-packages (from pyobjc>=2.4->pyttsx3) (9.0.1)\n",
            "Requirement already satisfied: pyobjc-framework-NetFS==9.0.1 in /opt/homebrew/lib/python3.10/site-packages (from pyobjc>=2.4->pyttsx3) (9.0.1)\n",
            "Requirement already satisfied: pyobjc-framework-ClassKit==9.0.1 in /opt/homebrew/lib/python3.10/site-packages (from pyobjc>=2.4->pyttsx3) (9.0.1)\n",
            "Requirement already satisfied: pyobjc-framework-CoreMedia==9.0.1 in /opt/homebrew/lib/python3.10/site-packages (from pyobjc>=2.4->pyttsx3) (9.0.1)\n",
            "Requirement already satisfied: pyobjc-framework-NotificationCenter==9.0.1 in /opt/homebrew/lib/python3.10/site-packages (from pyobjc>=2.4->pyttsx3) (9.0.1)\n",
            "Requirement already satisfied: pyobjc-framework-CalendarStore==9.0.1 in /opt/homebrew/lib/python3.10/site-packages (from pyobjc>=2.4->pyttsx3) (9.0.1)\n",
            "Requirement already satisfied: pyobjc-framework-Photos==9.0.1 in /opt/homebrew/lib/python3.10/site-packages (from pyobjc>=2.4->pyttsx3) (9.0.1)\n",
            "Requirement already satisfied: pyobjc-framework-AudioVideoBridging==9.0.1 in /opt/homebrew/lib/python3.10/site-packages (from pyobjc>=2.4->pyttsx3) (9.0.1)\n",
            "Requirement already satisfied: pyobjc-framework-AddressBook==9.0.1 in /opt/homebrew/lib/python3.10/site-packages (from pyobjc>=2.4->pyttsx3) (9.0.1)\n",
            "Requirement already satisfied: pyobjc-framework-PencilKit==9.0.1 in /opt/homebrew/lib/python3.10/site-packages (from pyobjc>=2.4->pyttsx3) (9.0.1)\n",
            "Requirement already satisfied: pyobjc-framework-GameCenter==9.0.1 in /opt/homebrew/lib/python3.10/site-packages (from pyobjc>=2.4->pyttsx3) (9.0.1)\n",
            "Requirement already satisfied: pyobjc-framework-Security==9.0.1 in /opt/homebrew/lib/python3.10/site-packages (from pyobjc>=2.4->pyttsx3) (9.0.1)\n",
            "Requirement already satisfied: pyobjc-framework-ExceptionHandling==9.0.1 in /opt/homebrew/lib/python3.10/site-packages (from pyobjc>=2.4->pyttsx3) (9.0.1)\n",
            "Requirement already satisfied: pyobjc-framework-SoundAnalysis==9.0.1 in /opt/homebrew/lib/python3.10/site-packages (from pyobjc>=2.4->pyttsx3) (9.0.1)\n",
            "Requirement already satisfied: pyobjc-framework-InputMethodKit==9.0.1 in /opt/homebrew/lib/python3.10/site-packages (from pyobjc>=2.4->pyttsx3) (9.0.1)\n",
            "Requirement already satisfied: pyobjc-framework-FileProvider==9.0.1 in /opt/homebrew/lib/python3.10/site-packages (from pyobjc>=2.4->pyttsx3) (9.0.1)\n",
            "Requirement already satisfied: pyobjc-framework-AVRouting==9.0.1 in /opt/homebrew/lib/python3.10/site-packages (from pyobjc>=2.4->pyttsx3) (9.0.1)\n",
            "Requirement already satisfied: pyobjc-framework-GameplayKit==9.0.1 in /opt/homebrew/lib/python3.10/site-packages (from pyobjc>=2.4->pyttsx3) (9.0.1)\n",
            "Requirement already satisfied: pyobjc-framework-SecurityInterface==9.0.1 in /opt/homebrew/lib/python3.10/site-packages (from pyobjc>=2.4->pyttsx3) (9.0.1)\n",
            "Requirement already satisfied: pyobjc-framework-CoreSpotlight==9.0.1 in /opt/homebrew/lib/python3.10/site-packages (from pyobjc>=2.4->pyttsx3) (9.0.1)\n",
            "Requirement already satisfied: pyobjc-framework-FileProviderUI==9.0.1 in /opt/homebrew/lib/python3.10/site-packages (from pyobjc>=2.4->pyttsx3) (9.0.1)\n",
            "Requirement already satisfied: pyobjc-framework-ColorSync==9.0.1 in /opt/homebrew/lib/python3.10/site-packages (from pyobjc>=2.4->pyttsx3) (9.0.1)\n",
            "Requirement already satisfied: pyobjc-framework-KernelManagement==9.0.1 in /opt/homebrew/lib/python3.10/site-packages (from pyobjc>=2.4->pyttsx3) (9.0.1)\n",
            "Requirement already satisfied: pyobjc-framework-DictionaryServices==9.0.1 in /opt/homebrew/lib/python3.10/site-packages (from pyobjc>=2.4->pyttsx3) (9.0.1)\n",
            "Requirement already satisfied: pyobjc-framework-NaturalLanguage==9.0.1 in /opt/homebrew/lib/python3.10/site-packages (from pyobjc>=2.4->pyttsx3) (9.0.1)\n",
            "Requirement already satisfied: pyobjc-framework-LinkPresentation==9.0.1 in /opt/homebrew/lib/python3.10/site-packages (from pyobjc>=2.4->pyttsx3) (9.0.1)\n",
            "Requirement already satisfied: pyobjc-framework-MailKit==9.0.1 in /opt/homebrew/lib/python3.10/site-packages (from pyobjc>=2.4->pyttsx3) (9.0.1)\n",
            "Requirement already satisfied: pyobjc-framework-SystemConfiguration==9.0.1 in /opt/homebrew/lib/python3.10/site-packages (from pyobjc>=2.4->pyttsx3) (9.0.1)\n",
            "Requirement already satisfied: pyobjc-framework-GameKit==9.0.1 in /opt/homebrew/lib/python3.10/site-packages (from pyobjc>=2.4->pyttsx3) (9.0.1)\n",
            "Requirement already satisfied: pyobjc-framework-QuickLookThumbnailing==9.0.1 in /opt/homebrew/lib/python3.10/site-packages (from pyobjc>=2.4->pyttsx3) (9.0.1)\n",
            "Requirement already satisfied: pyobjc-framework-CoreData==9.0.1 in /opt/homebrew/lib/python3.10/site-packages (from pyobjc>=2.4->pyttsx3) (9.0.1)\n",
            "Requirement already satisfied: pyobjc-framework-ScreenSaver==9.0.1 in /opt/homebrew/lib/python3.10/site-packages (from pyobjc>=2.4->pyttsx3) (9.0.1)\n",
            "Requirement already satisfied: pyobjc-framework-Accounts==9.0.1 in /opt/homebrew/lib/python3.10/site-packages (from pyobjc>=2.4->pyttsx3) (9.0.1)\n",
            "Requirement already satisfied: pyobjc-framework-AVKit==9.0.1 in /opt/homebrew/lib/python3.10/site-packages (from pyobjc>=2.4->pyttsx3) (9.0.1)\n",
            "Requirement already satisfied: pyobjc-framework-NetworkExtension==9.0.1 in /opt/homebrew/lib/python3.10/site-packages (from pyobjc>=2.4->pyttsx3) (9.0.1)\n",
            "Requirement already satisfied: pyobjc-framework-MediaPlayer==9.0.1 in /opt/homebrew/lib/python3.10/site-packages (from pyobjc>=2.4->pyttsx3) (9.0.1)\n",
            "Requirement already satisfied: pyobjc-framework-MetalFX==9.0.1 in /opt/homebrew/lib/python3.10/site-packages (from pyobjc>=2.4->pyttsx3) (9.0.1)\n",
            "Requirement already satisfied: pyobjc-framework-IntentsUI==9.0.1 in /opt/homebrew/lib/python3.10/site-packages (from pyobjc>=2.4->pyttsx3) (9.0.1)\n",
            "Requirement already satisfied: pyobjc-framework-MapKit==9.0.1 in /opt/homebrew/lib/python3.10/site-packages (from pyobjc>=2.4->pyttsx3) (9.0.1)\n",
            "Requirement already satisfied: pyobjc-framework-MetalPerformanceShaders==9.0.1 in /opt/homebrew/lib/python3.10/site-packages (from pyobjc>=2.4->pyttsx3) (9.0.1)\n",
            "Requirement already satisfied: pyobjc-framework-SearchKit==9.0.1 in /opt/homebrew/lib/python3.10/site-packages (from pyobjc>=2.4->pyttsx3) (9.0.1)\n",
            "Requirement already satisfied: pyobjc-framework-DiscRecording==9.0.1 in /opt/homebrew/lib/python3.10/site-packages (from pyobjc>=2.4->pyttsx3) (9.0.1)\n",
            "Requirement already satisfied: pyobjc-framework-LaunchServices==9.0.1 in /opt/homebrew/lib/python3.10/site-packages (from pyobjc>=2.4->pyttsx3) (9.0.1)\n",
            "Requirement already satisfied: pyobjc-framework-MetalKit==9.0.1 in /opt/homebrew/lib/python3.10/site-packages (from pyobjc>=2.4->pyttsx3) (9.0.1)\n",
            "Requirement already satisfied: pyobjc-framework-Vision==9.0.1 in /opt/homebrew/lib/python3.10/site-packages (from pyobjc>=2.4->pyttsx3) (9.0.1)\n",
            "Requirement already satisfied: pyobjc-framework-CoreMIDI==9.0.1 in /opt/homebrew/lib/python3.10/site-packages (from pyobjc>=2.4->pyttsx3) (9.0.1)\n",
            "Requirement already satisfied: pyobjc-framework-CoreLocation==9.0.1 in /opt/homebrew/lib/python3.10/site-packages (from pyobjc>=2.4->pyttsx3) (9.0.1)\n",
            "Requirement already satisfied: pyobjc-framework-OSAKit==9.0.1 in /opt/homebrew/lib/python3.10/site-packages (from pyobjc>=2.4->pyttsx3) (9.0.1)\n",
            "Requirement already satisfied: pyobjc-framework-SafariServices==9.0.1 in /opt/homebrew/lib/python3.10/site-packages (from pyobjc>=2.4->pyttsx3) (9.0.1)\n",
            "Requirement already satisfied: pyobjc-framework-CallKit==9.0.1 in /opt/homebrew/lib/python3.10/site-packages (from pyobjc>=2.4->pyttsx3) (9.0.1)\n",
            "Requirement already satisfied: pyobjc-framework-LocalAuthentication==9.0.1 in /opt/homebrew/lib/python3.10/site-packages (from pyobjc>=2.4->pyttsx3) (9.0.1)\n",
            "Requirement already satisfied: pyobjc-framework-CryptoTokenKit==9.0.1 in /opt/homebrew/lib/python3.10/site-packages (from pyobjc>=2.4->pyttsx3) (9.0.1)\n",
            "Requirement already satisfied: pyobjc-framework-Virtualization==9.0.1 in /opt/homebrew/lib/python3.10/site-packages (from pyobjc>=2.4->pyttsx3) (9.0.1)\n",
            "Requirement already satisfied: pyobjc-core==9.0.1 in /opt/homebrew/lib/python3.10/site-packages (from pyobjc>=2.4->pyttsx3) (9.0.1)\n",
            "Requirement already satisfied: pyobjc-framework-MediaAccessibility==9.0.1 in /opt/homebrew/lib/python3.10/site-packages (from pyobjc>=2.4->pyttsx3) (9.0.1)\n",
            "Requirement already satisfied: pyobjc-framework-AdSupport==9.0.1 in /opt/homebrew/lib/python3.10/site-packages (from pyobjc>=2.4->pyttsx3) (9.0.1)\n",
            "Requirement already satisfied: pyobjc-framework-CoreWLAN==9.0.1 in /opt/homebrew/lib/python3.10/site-packages (from pyobjc>=2.4->pyttsx3) (9.0.1)\n",
            "Requirement already satisfied: pyobjc-framework-FSEvents==9.0.1 in /opt/homebrew/lib/python3.10/site-packages (from pyobjc>=2.4->pyttsx3) (9.0.1)\n",
            "Requirement already satisfied: pyobjc-framework-ExecutionPolicy==9.0.1 in /opt/homebrew/lib/python3.10/site-packages (from pyobjc>=2.4->pyttsx3) (9.0.1)\n",
            "Requirement already satisfied: pyobjc-framework-CFNetwork==9.0.1 in /opt/homebrew/lib/python3.10/site-packages (from pyobjc>=2.4->pyttsx3) (9.0.1)\n",
            "Requirement already satisfied: pyobjc-framework-DVDPlayback==9.0.1 in /opt/homebrew/lib/python3.10/site-packages (from pyobjc>=2.4->pyttsx3) (9.0.1)\n",
            "Requirement already satisfied: pyobjc-framework-StoreKit==9.0.1 in /opt/homebrew/lib/python3.10/site-packages (from pyobjc>=2.4->pyttsx3) (9.0.1)\n",
            "Requirement already satisfied: pyobjc-framework-PhotosUI==9.0.1 in /opt/homebrew/lib/python3.10/site-packages (from pyobjc>=2.4->pyttsx3) (9.0.1)\n",
            "Requirement already satisfied: pyobjc-framework-SystemExtensions==9.0.1 in /opt/homebrew/lib/python3.10/site-packages (from pyobjc>=2.4->pyttsx3) (9.0.1)\n",
            "Requirement already satisfied: pyobjc-framework-AutomaticAssessmentConfiguration==9.0.1 in /opt/homebrew/lib/python3.10/site-packages (from pyobjc>=2.4->pyttsx3) (9.0.1)\n",
            "Requirement already satisfied: pyobjc-framework-IMServicePlugIn==9.0.1 in /opt/homebrew/lib/python3.10/site-packages (from pyobjc>=2.4->pyttsx3) (9.0.1)\n",
            "Requirement already satisfied: pyobjc-framework-DiskArbitration==9.0.1 in /opt/homebrew/lib/python3.10/site-packages (from pyobjc>=2.4->pyttsx3) (9.0.1)\n",
            "Requirement already satisfied: pyobjc-framework-EventKit==9.0.1 in /opt/homebrew/lib/python3.10/site-packages (from pyobjc>=2.4->pyttsx3) (9.0.1)\n",
            "Requirement already satisfied: pyobjc-framework-MultipeerConnectivity==9.0.1 in /opt/homebrew/lib/python3.10/site-packages (from pyobjc>=2.4->pyttsx3) (9.0.1)\n",
            "Requirement already satisfied: pyobjc-framework-Metal==9.0.1 in /opt/homebrew/lib/python3.10/site-packages (from pyobjc>=2.4->pyttsx3) (9.0.1)\n",
            "Requirement already satisfied: pyobjc-framework-Intents==9.0.1 in /opt/homebrew/lib/python3.10/site-packages (from pyobjc>=2.4->pyttsx3) (9.0.1)\n",
            "Requirement already satisfied: pyobjc-framework-HealthKit==9.0.1 in /opt/homebrew/lib/python3.10/site-packages (from pyobjc>=2.4->pyttsx3) (9.0.1)\n",
            "Requirement already satisfied: pyobjc-framework-LatentSemanticMapping==9.0.1 in /opt/homebrew/lib/python3.10/site-packages (from pyobjc>=2.4->pyttsx3) (9.0.1)\n",
            "Requirement already satisfied: pyobjc-framework-UserNotifications==9.0.1 in /opt/homebrew/lib/python3.10/site-packages (from pyobjc>=2.4->pyttsx3) (9.0.1)\n",
            "Requirement already satisfied: pyobjc-framework-SyncServices==9.0.1 in /opt/homebrew/lib/python3.10/site-packages (from pyobjc>=2.4->pyttsx3) (9.0.1)\n",
            "Requirement already satisfied: pyobjc-framework-AVFoundation==9.0.1 in /opt/homebrew/lib/python3.10/site-packages (from pyobjc>=2.4->pyttsx3) (9.0.1)\n",
            "Requirement already satisfied: pyobjc-framework-BackgroundAssets==9.0.1 in /opt/homebrew/lib/python3.10/site-packages (from pyobjc>=2.4->pyttsx3) (9.0.1)\n",
            "Requirement already satisfied: pyobjc-framework-ReplayKit==9.0.1 in /opt/homebrew/lib/python3.10/site-packages (from pyobjc>=2.4->pyttsx3) (9.0.1)\n",
            "Requirement already satisfied: pyobjc-framework-BusinessChat==9.0.1 in /opt/homebrew/lib/python3.10/site-packages (from pyobjc>=2.4->pyttsx3) (9.0.1)\n",
            "Requirement already satisfied: pyobjc-framework-Social==9.0.1 in /opt/homebrew/lib/python3.10/site-packages (from pyobjc>=2.4->pyttsx3) (9.0.1)\n",
            "Requirement already satisfied: pyobjc-framework-libdispatch==9.0.1 in /opt/homebrew/lib/python3.10/site-packages (from pyobjc>=2.4->pyttsx3) (9.0.1)\n",
            "Requirement already satisfied: pyobjc-framework-UniformTypeIdentifiers==9.0.1 in /opt/homebrew/lib/python3.10/site-packages (from pyobjc>=2.4->pyttsx3) (9.0.1)\n",
            "Requirement already satisfied: pyobjc-framework-FinderSync==9.0.1 in /opt/homebrew/lib/python3.10/site-packages (from pyobjc>=2.4->pyttsx3) (9.0.1)\n",
            "Requirement already satisfied: pyobjc-framework-CoreServices==9.0.1 in /opt/homebrew/lib/python3.10/site-packages (from pyobjc>=2.4->pyttsx3) (9.0.1)\n",
            "Requirement already satisfied: pyobjc-framework-ModelIO==9.0.1 in /opt/homebrew/lib/python3.10/site-packages (from pyobjc>=2.4->pyttsx3) (9.0.1)\n",
            "Requirement already satisfied: pyobjc-framework-ExternalAccessory==9.0.1 in /opt/homebrew/lib/python3.10/site-packages (from pyobjc>=2.4->pyttsx3) (9.0.1)\n",
            "Requirement already satisfied: pyobjc-framework-Contacts==9.0.1 in /opt/homebrew/lib/python3.10/site-packages (from pyobjc>=2.4->pyttsx3) (9.0.1)\n",
            "Requirement already satisfied: pyobjc-framework-ThreadNetwork==9.0.1 in /opt/homebrew/lib/python3.10/site-packages (from pyobjc>=2.4->pyttsx3) (9.0.1)\n",
            "Requirement already satisfied: pyobjc-framework-ExtensionKit==9.0.1 in /opt/homebrew/lib/python3.10/site-packages (from pyobjc>=2.4->pyttsx3) (9.0.1)\n",
            "Requirement already satisfied: pyobjc-framework-ScriptingBridge==9.0.1 in /opt/homebrew/lib/python3.10/site-packages (from pyobjc>=2.4->pyttsx3) (9.0.1)\n",
            "Requirement already satisfied: pyobjc-framework-CoreML==9.0.1 in /opt/homebrew/lib/python3.10/site-packages (from pyobjc>=2.4->pyttsx3) (9.0.1)\n",
            "Requirement already satisfied: pyobjc-framework-CoreAudio==9.0.1 in /opt/homebrew/lib/python3.10/site-packages (from pyobjc>=2.4->pyttsx3) (9.0.1)\n",
            "Requirement already satisfied: pyobjc-framework-AppleScriptKit==9.0.1 in /opt/homebrew/lib/python3.10/site-packages (from pyobjc>=2.4->pyttsx3) (9.0.1)\n",
            "Requirement already satisfied: pyobjc-framework-CoreBluetooth==9.0.1 in /opt/homebrew/lib/python3.10/site-packages (from pyobjc>=2.4->pyttsx3) (9.0.1)\n",
            "Requirement already satisfied: pyobjc-framework-PushKit==9.0.1 in /opt/homebrew/lib/python3.10/site-packages (from pyobjc>=2.4->pyttsx3) (9.0.1)\n",
            "Requirement already satisfied: pyobjc-framework-MLCompute==9.0.1 in /opt/homebrew/lib/python3.10/site-packages (from pyobjc>=2.4->pyttsx3) (9.0.1)\n",
            "Requirement already satisfied: pyobjc-framework-SceneKit==9.0.1 in /opt/homebrew/lib/python3.10/site-packages (from pyobjc>=2.4->pyttsx3) (9.0.1)\n",
            "Requirement already satisfied: pyobjc-framework-ServiceManagement==9.0.1 in /opt/homebrew/lib/python3.10/site-packages (from pyobjc>=2.4->pyttsx3) (9.0.1)\n",
            "Requirement already satisfied: pyobjc-framework-InstallerPlugins==9.0.1 in /opt/homebrew/lib/python3.10/site-packages (from pyobjc>=2.4->pyttsx3) (9.0.1)\n",
            "Requirement already satisfied: pyobjc-framework-ScreenTime==9.0.1 in /opt/homebrew/lib/python3.10/site-packages (from pyobjc>=2.4->pyttsx3) (9.0.1)\n",
            "Requirement already satisfied: pyobjc-framework-Automator==9.0.1 in /opt/homebrew/lib/python3.10/site-packages (from pyobjc>=2.4->pyttsx3) (9.0.1)\n",
            "Requirement already satisfied: pyobjc-framework-MediaToolbox==9.0.1 in /opt/homebrew/lib/python3.10/site-packages (from pyobjc>=2.4->pyttsx3) (9.0.1)\n",
            "Requirement already satisfied: pyobjc-framework-iTunesLibrary==9.0.1 in /opt/homebrew/lib/python3.10/site-packages (from pyobjc>=2.4->pyttsx3) (9.0.1)\n",
            "Requirement already satisfied: pyobjc-framework-OpenDirectory==9.0.1 in /opt/homebrew/lib/python3.10/site-packages (from pyobjc>=2.4->pyttsx3) (9.0.1)\n",
            "Requirement already satisfied: pyobjc-framework-CoreAudioKit==9.0.1 in /opt/homebrew/lib/python3.10/site-packages (from pyobjc>=2.4->pyttsx3) (9.0.1)\n",
            "Requirement already satisfied: pyobjc-framework-MetricKit==9.0.1 in /opt/homebrew/lib/python3.10/site-packages (from pyobjc>=2.4->pyttsx3) (9.0.1)\n",
            "Requirement already satisfied: pyobjc-framework-AppleScriptObjC==9.0.1 in /opt/homebrew/lib/python3.10/site-packages (from pyobjc>=2.4->pyttsx3) (9.0.1)\n",
            "Requirement already satisfied: pyobjc-framework-OSLog==9.0.1 in /opt/homebrew/lib/python3.10/site-packages (from pyobjc>=2.4->pyttsx3) (9.0.1)\n",
            "Requirement already satisfied: pyobjc-framework-ImageCaptureCore==9.0.1 in /opt/homebrew/lib/python3.10/site-packages (from pyobjc>=2.4->pyttsx3) (9.0.1)\n",
            "Requirement already satisfied: pyobjc-framework-AdServices==9.0.1 in /opt/homebrew/lib/python3.10/site-packages (from pyobjc>=2.4->pyttsx3) (9.0.1)\n",
            "Requirement already satisfied: pyobjc-framework-SharedWithYou==9.0.1 in /opt/homebrew/lib/python3.10/site-packages (from pyobjc>=2.4->pyttsx3) (9.0.1)\n",
            "Requirement already satisfied: pyobjc-framework-MediaLibrary==9.0.1 in /opt/homebrew/lib/python3.10/site-packages (from pyobjc>=2.4->pyttsx3) (9.0.1)\n",
            "Requirement already satisfied: pyobjc-framework-SpriteKit==9.0.1 in /opt/homebrew/lib/python3.10/site-packages (from pyobjc>=2.4->pyttsx3) (9.0.1)\n",
            "Requirement already satisfied: pyobjc-framework-CoreMotion==9.0.1 in /opt/homebrew/lib/python3.10/site-packages (from pyobjc>=2.4->pyttsx3) (9.0.1)\n",
            "\n",
            "\u001b[1m[\u001b[0m\u001b[34;49mnotice\u001b[0m\u001b[1;39;49m]\u001b[0m\u001b[39;49m A new release of pip available: \u001b[0m\u001b[31;49m22.2.2\u001b[0m\u001b[39;49m -> \u001b[0m\u001b[32;49m22.3.1\u001b[0m\n",
            "\u001b[1m[\u001b[0m\u001b[34;49mnotice\u001b[0m\u001b[1;39;49m]\u001b[0m\u001b[39;49m To update, run: \u001b[0m\u001b[32;49mpython3.10 -m pip install --upgrade pip\u001b[0m\n",
            "Note: you may need to restart the kernel to use updated packages.\n"
          ]
        }
      ],
      "source": [
        "pip install pyttsx3"
      ]
    },
    {
      "cell_type": "code",
      "execution_count": 52,
      "metadata": {
        "colab": {
          "base_uri": "https://localhost:8080/"
        },
        "id": "FtP0EDgiAshc",
        "outputId": "56655bc5-6a05-403a-c7b9-b2ed9ffa7b3d"
      },
      "outputs": [
        {
          "name": "stdout",
          "output_type": "stream",
          "text": [
            "Requirement already satisfied: tk in /opt/homebrew/lib/python3.10/site-packages (0.1.0)\n",
            "\n",
            "\u001b[1m[\u001b[0m\u001b[34;49mnotice\u001b[0m\u001b[1;39;49m]\u001b[0m\u001b[39;49m A new release of pip available: \u001b[0m\u001b[31;49m22.2.2\u001b[0m\u001b[39;49m -> \u001b[0m\u001b[32;49m22.3.1\u001b[0m\n",
            "\u001b[1m[\u001b[0m\u001b[34;49mnotice\u001b[0m\u001b[1;39;49m]\u001b[0m\u001b[39;49m To update, run: \u001b[0m\u001b[32;49mpython3.10 -m pip install --upgrade pip\u001b[0m\n",
            "Note: you may need to restart the kernel to use updated packages.\n"
          ]
        }
      ],
      "source": [
        "pip install tk"
      ]
    },
    {
      "cell_type": "code",
      "execution_count": 53,
      "metadata": {
        "colab": {
          "base_uri": "https://localhost:8080/"
        },
        "id": "kgxNLb23KB2m",
        "outputId": "7e14c3dd-e4ae-44cd-d4bb-92a904d34b07"
      },
      "outputs": [
        {
          "name": "stdout",
          "output_type": "stream",
          "text": [
            "Requirement already satisfied: datetime in /opt/homebrew/lib/python3.10/site-packages (5.0)\n",
            "Requirement already satisfied: pytz in /opt/homebrew/lib/python3.10/site-packages (from datetime) (2022.7.1)\n",
            "Requirement already satisfied: zope.interface in /opt/homebrew/lib/python3.10/site-packages (from datetime) (5.5.2)\n",
            "Requirement already satisfied: setuptools in /opt/homebrew/lib/python3.10/site-packages (from zope.interface->datetime) (65.4.1)\n",
            "\n",
            "\u001b[1m[\u001b[0m\u001b[34;49mnotice\u001b[0m\u001b[1;39;49m]\u001b[0m\u001b[39;49m A new release of pip available: \u001b[0m\u001b[31;49m22.2.2\u001b[0m\u001b[39;49m -> \u001b[0m\u001b[32;49m22.3.1\u001b[0m\n",
            "\u001b[1m[\u001b[0m\u001b[34;49mnotice\u001b[0m\u001b[1;39;49m]\u001b[0m\u001b[39;49m To update, run: \u001b[0m\u001b[32;49mpython3.10 -m pip install --upgrade pip\u001b[0m\n",
            "Note: you may need to restart the kernel to use updated packages.\n"
          ]
        }
      ],
      "source": [
        "pip install datetime"
      ]
    },
    {
      "cell_type": "code",
      "execution_count": 54,
      "metadata": {
        "colab": {
          "base_uri": "https://localhost:8080/"
        },
        "id": "cBfxv4kJTxU6",
        "outputId": "eb7d62b7-bd1c-4caf-fbae-3fef8049c855"
      },
      "outputs": [
        {
          "name": "stdout",
          "output_type": "stream",
          "text": [
            "Requirement already satisfied: python-docx in /opt/homebrew/lib/python3.10/site-packages (0.8.11)\n",
            "Requirement already satisfied: lxml>=2.3.2 in /opt/homebrew/lib/python3.10/site-packages (from python-docx) (4.9.2)\n",
            "\n",
            "\u001b[1m[\u001b[0m\u001b[34;49mnotice\u001b[0m\u001b[1;39;49m]\u001b[0m\u001b[39;49m A new release of pip available: \u001b[0m\u001b[31;49m22.2.2\u001b[0m\u001b[39;49m -> \u001b[0m\u001b[32;49m22.3.1\u001b[0m\n",
            "\u001b[1m[\u001b[0m\u001b[34;49mnotice\u001b[0m\u001b[1;39;49m]\u001b[0m\u001b[39;49m To update, run: \u001b[0m\u001b[32;49mpython3.10 -m pip install --upgrade pip\u001b[0m\n",
            "Note: you may need to restart the kernel to use updated packages.\n"
          ]
        }
      ],
      "source": [
        "pip install python-docx "
      ]
    },
    {
      "cell_type": "code",
      "execution_count": 25,
      "metadata": {},
      "outputs": [
        {
          "ename": "SyntaxError",
          "evalue": "invalid syntax (40166510.py, line 1)",
          "output_type": "error",
          "traceback": [
            "\u001b[0;36m  Cell \u001b[0;32mIn[25], line 1\u001b[0;36m\u001b[0m\n\u001b[0;31m    brew update\u001b[0m\n\u001b[0m         ^\u001b[0m\n\u001b[0;31mSyntaxError\u001b[0m\u001b[0;31m:\u001b[0m invalid syntax\n"
          ]
        }
      ],
      "source": [
        "brew update"
      ]
    },
    {
      "cell_type": "code",
      "execution_count": 55,
      "metadata": {
        "id": "ezPspaDQO1LD"
      },
      "outputs": [],
      "source": [
        "import pyttsx3\n",
        "import speech_recognition as sr\n",
        "import pyaudio\n",
        "import docx"
      ]
    },
    {
      "cell_type": "code",
      "execution_count": 56,
      "metadata": {
        "id": "J5byujggB5I_"
      },
      "outputs": [],
      "source": [
        "#setting up the recorder\n",
        "recorder = sr.Recognizer() \n",
        "\n",
        "#sets up an engine to capture audio\n",
        "def convertspeech(command): \n",
        "  engine = pyttsx3.init()\n",
        "  engine.say(command)\n",
        "  engine.runAndWait()\n"
      ]
    },
    {
      "cell_type": "code",
      "execution_count": 57,
      "metadata": {
        "id": "qzcoJ979UNQn"
      },
      "outputs": [],
      "source": [
        "#word document to store the output\n",
        "doc = docx.Document() "
      ]
    },
    {
      "cell_type": "code",
      "execution_count": 73,
      "metadata": {
        "colab": {
          "base_uri": "https://localhost:8080/",
          "height": 383
        },
        "id": "LNok9o8rFqvD",
        "outputId": "eafd6708-9656-4fcb-e915-ef321213273e"
      },
      "outputs": [
        {
          "name": "stdout",
          "output_type": "stream",
          "text": [
            "Waiting for audio input....\n",
            "testing\n"
          ]
        },
        {
          "ename": "AttributeError",
          "evalue": "'NoneType' object has no attribute 'close'",
          "output_type": "error",
          "traceback": [
            "\u001b[0;31m---------------------------------------------------------------------------\u001b[0m",
            "\u001b[0;31mAssertionError\u001b[0m                            Traceback (most recent call last)",
            "Cell \u001b[0;32mIn[73], line 9\u001b[0m\n\u001b[1;32m      8\u001b[0m \u001b[39mprint\u001b[39m(\u001b[39m\"\u001b[39m\u001b[39mtesting\u001b[39m\u001b[39m\"\u001b[39m)\n\u001b[0;32m----> 9\u001b[0m recorder\u001b[39m.\u001b[39;49madjust_for_ambient_noise(source,duration \u001b[39m=\u001b[39;49m \u001b[39m0.5\u001b[39;49m) \u001b[39m#eliminates any background noises\u001b[39;00m\n\u001b[1;32m     10\u001b[0m audio \u001b[39m=\u001b[39m recorder\u001b[39m.\u001b[39mlisten(source) \u001b[39m#records the audio\u001b[39;00m\n",
            "File \u001b[0;32m/opt/homebrew/lib/python3.10/site-packages/speech_recognition/__init__.py:569\u001b[0m, in \u001b[0;36mRecognizer.adjust_for_ambient_noise\u001b[0;34m(self, source, duration)\u001b[0m\n\u001b[1;32m    568\u001b[0m \u001b[39massert\u001b[39;00m \u001b[39misinstance\u001b[39m(source, AudioSource), \u001b[39m\"\u001b[39m\u001b[39mSource must be an audio source\u001b[39m\u001b[39m\"\u001b[39m\n\u001b[0;32m--> 569\u001b[0m \u001b[39massert\u001b[39;00m source\u001b[39m.\u001b[39mstream \u001b[39mis\u001b[39;00m \u001b[39mnot\u001b[39;00m \u001b[39mNone\u001b[39;00m, \u001b[39m\"\u001b[39m\u001b[39mAudio source must be entered before adjusting, see documentation for ``AudioSource``; are you using ``source`` outside of a ``with`` statement?\u001b[39m\u001b[39m\"\u001b[39m\n\u001b[1;32m    570\u001b[0m \u001b[39massert\u001b[39;00m \u001b[39mself\u001b[39m\u001b[39m.\u001b[39mpause_threshold \u001b[39m>\u001b[39m\u001b[39m=\u001b[39m \u001b[39mself\u001b[39m\u001b[39m.\u001b[39mnon_speaking_duration \u001b[39m>\u001b[39m\u001b[39m=\u001b[39m \u001b[39m0\u001b[39m\n",
            "\u001b[0;31mAssertionError\u001b[0m: Audio source must be entered before adjusting, see documentation for ``AudioSource``; are you using ``source`` outside of a ``with`` statement?",
            "\nDuring handling of the above exception, another exception occurred:\n",
            "\u001b[0;31mAttributeError\u001b[0m                            Traceback (most recent call last)",
            "Cell \u001b[0;32mIn[73], line 7\u001b[0m\n\u001b[1;32m      5\u001b[0m \u001b[39mprint\u001b[39m(\u001b[39m\"\u001b[39m\u001b[39mWaiting for audio input....\u001b[39m\u001b[39m\"\u001b[39m)\n\u001b[1;32m      6\u001b[0m \u001b[39mtry\u001b[39;00m:\n\u001b[0;32m----> 7\u001b[0m   \u001b[39mwith\u001b[39;00m sr\u001b[39m.\u001b[39mMicrophone(device_index \u001b[39m=\u001b[39m \u001b[39m0\u001b[39m) \u001b[39mas\u001b[39;00m source: \u001b[39m#setting the device microphone as the source of the sound\u001b[39;00m\n\u001b[1;32m      8\u001b[0m     \u001b[39mprint\u001b[39m(\u001b[39m\"\u001b[39m\u001b[39mtesting\u001b[39m\u001b[39m\"\u001b[39m)\n\u001b[1;32m      9\u001b[0m     recorder\u001b[39m.\u001b[39madjust_for_ambient_noise(source,duration \u001b[39m=\u001b[39m \u001b[39m0.5\u001b[39m) \u001b[39m#eliminates any background noises\u001b[39;00m\n",
            "File \u001b[0;32m/opt/homebrew/lib/python3.10/site-packages/speech_recognition/__init__.py:201\u001b[0m, in \u001b[0;36mMicrophone.__exit__\u001b[0;34m(self, exc_type, exc_value, traceback)\u001b[0m\n\u001b[1;32m    199\u001b[0m \u001b[39mdef\u001b[39;00m \u001b[39m__exit__\u001b[39m(\u001b[39mself\u001b[39m, exc_type, exc_value, traceback):\n\u001b[1;32m    200\u001b[0m     \u001b[39mtry\u001b[39;00m:\n\u001b[0;32m--> 201\u001b[0m         \u001b[39mself\u001b[39;49m\u001b[39m.\u001b[39;49mstream\u001b[39m.\u001b[39;49mclose()\n\u001b[1;32m    202\u001b[0m     \u001b[39mfinally\u001b[39;00m:\n\u001b[1;32m    203\u001b[0m         \u001b[39mself\u001b[39m\u001b[39m.\u001b[39mstream \u001b[39m=\u001b[39m \u001b[39mNone\u001b[39;00m\n",
            "\u001b[0;31mAttributeError\u001b[0m: 'NoneType' object has no attribute 'close'"
          ]
        }
      ],
      "source": [
        "#Loop infinitely, waiting for the user to speak\n",
        "count = 10\n",
        "\n",
        "while(count > 0):\n",
        "  print(\"Waiting for audio input....\")\n",
        "  try:\n",
        "    with sr.Microphone(device_index = 0) as source: #setting the device microphone as the source of the sound\n",
        "      print(\"testing\")\n",
        "      recorder.adjust_for_ambient_noise(source,duration = 0.5) #eliminates any background noises\n",
        "      audio = recorder.listen(source) #records the audio\n",
        "      text = recorder.recognize_google(audio) #converts the audio to text\n",
        "      print(\"text\", text)\n",
        "      #doc.add_paragraph(text) #stores the text to a word document\n",
        "\n",
        "      #write the text to a word file\n",
        "      count -=1\n",
        "      print(\"count\", count)\n",
        "\n",
        "  except sr.RequestError:\n",
        "    print(\"Sorry, cannot request your results!\")\n",
        "  except sr.UnknownValueError:\n",
        "    print(\"Sorry, someting went wrong.\")"
      ]
    },
    {
      "cell_type": "code",
      "execution_count": 59,
      "metadata": {
        "id": "isT7HDM4VErR"
      },
      "outputs": [],
      "source": [
        "#saves the document to the path - we need to configure the path\n",
        "doc.save('path_to_document')"
      ]
    }
  ],
  "metadata": {
    "colab": {
      "provenance": []
    },
    "kernelspec": {
      "display_name": "Python 3.10.8 64-bit",
      "language": "python",
      "name": "python3"
    },
    "language_info": {
      "codemirror_mode": {
        "name": "ipython",
        "version": 3
      },
      "file_extension": ".py",
      "mimetype": "text/x-python",
      "name": "python",
      "nbconvert_exporter": "python",
      "pygments_lexer": "ipython3",
      "version": "3.10.8"
    },
    "vscode": {
      "interpreter": {
        "hash": "b0fa6594d8f4cbf19f97940f81e996739fb7646882a419484c72d19e05852a7e"
      }
    }
  },
  "nbformat": 4,
  "nbformat_minor": 0
}
